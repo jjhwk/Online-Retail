{
 "cells": [
  {
   "cell_type": "code",
   "execution_count": 1,
   "id": "1de0bc28",
   "metadata": {},
   "outputs": [],
   "source": [
    "import pandas as pd\n",
    "import numpy as np\n",
    "import seaborn as sns\n",
    "import datetime as dt\n",
    "import matplotlib.pyplot as plt\n",
    "from scipy.stats import mode"
   ]
  },
  {
   "cell_type": "code",
   "execution_count": 3,
   "id": "dde2efea",
   "metadata": {},
   "outputs": [],
   "source": [
    "df = pd.read_csv(\"./data/online_retail.csv\")\n",
    "df_pre = pd.read_csv('./data/Online_Retail(전처리 후).csv')\n",
    "df_pre2 = pd.read_csv('./data/df_pre2.csv')\n",
    "df_retention_rate = pd.read_csv(\"./data/df_retention_rate.csv\")\n",
    "\n",
    "df_12_description = pd.read_csv(\"./data/df_12_description.csv\")\n",
    "\n",
    "df_201012 = pd.read_csv(\"./data/df_201012.csv\")\n",
    "df_not_201012 = pd.read_csv(\"./data/df_not_201012.csv\")"
   ]
  },
  {
   "cell_type": "markdown",
   "id": "a8f2974a",
   "metadata": {},
   "source": [
    "# 월별 신규고객 유입 분석"
   ]
  },
  {
   "cell_type": "markdown",
   "id": "e135a45f",
   "metadata": {},
   "source": [
    "- Tableau 시각화\n",
    "\n",
    "<img src = \"./img/각 월별 신규 고객수.png\">\n",
    "\n",
    "<img src = \"./img/각 월별 신규 고객수 (2).png\">\n"
   ]
  },
  {
   "cell_type": "markdown",
   "id": "928620c3",
   "metadata": {},
   "source": [
    "# 월별 재구매율 코호트 분석"
   ]
  },
  {
   "cell_type": "markdown",
   "id": "0f6a9e09",
   "metadata": {},
   "source": [
    "### sql"
   ]
  },
  {
   "cell_type": "markdown",
   "id": "b73418f1",
   "metadata": {},
   "source": [
    "- 월별 Retention 고객 수 테이블 생성\n",
    "```\n",
    "CREATE TABLE df_active_users\n",
    "SELECT\n",
    "    cohort_month,\n",
    "    activity_month,\n",
    "    COUNT(DISTINCT CustomerID) AS active_users -- cohort_month 첫구매 유지 고객 수\n",
    "FROM\n",
    "\t(SELECT\n",
    "\t    a.CustomerID,\n",
    "\t    a.cohort_month,\n",
    "\t    DATE_FORMAT(b.Date, '%Y-%m') AS activity_month \n",
    "\tFROM\n",
    "\t    (SELECT \n",
    "\t        CustomerID,\n",
    "\t        MIN(DATE_FORMAT(Date, '%Y-%m')) AS cohort_month -- 최초 구매 월\n",
    "\t     FROM \n",
    "\t        df_member\n",
    "\t     GROUP BY \n",
    "\t        CustomerID) a\n",
    "\tJOIN\n",
    "\t    df_member b \n",
    "\tON \n",
    "\t    a.CustomerID = b.CustomerID -- 각 테이블의 CustomerID가 같은거 기준으로 원본 테이블과 JOIN\n",
    "\tWHERE\n",
    "\t    DATE_FORMAT(b.Date, '%Y-%m') >= a.cohort_month) c -- 원본 테이블의 구매 날짜가 고객의 최초 구매 이후인지 확인\n",
    "GROUP BY\n",
    "    cohort_month,\n",
    "    activity_month\n",
    "ORDER BY\n",
    "    cohort_month,\n",
    "    activity_month;\n",
    "```\n",
    "- 월별 Retention Rate 테이블 생성\n",
    "```\n",
    "CREATE TABLE df_retention_rate\n",
    "SELECT \n",
    "\ta.cohort_month,\n",
    "    a.activity_month,\n",
    "    a.active_users,\n",
    "    round(a.active_users/a.first_active_users, 2) * 100 AS retention_rate\n",
    "FROM\n",
    "\t(SELECT \n",
    "\t\tcohort_month,\n",
    "\t    activity_month,\n",
    "\t    active_users,\n",
    "\t    FIRST_VALUE(active_users) OVER (PARTITION BY cohort_month ORDER BY activity_month) AS first_active_users\n",
    "\tFROM df_active_users) a -- \n",
    "ORDER BY\n",
    "\tcohort_month, activity_month;\n",
    "```"
   ]
  },
  {
   "cell_type": "markdown",
   "id": "1698b22b",
   "metadata": {},
   "source": [
    "#### 결과 테이블"
   ]
  },
  {
   "cell_type": "code",
   "execution_count": null,
   "id": "59cbd0b5",
   "metadata": {},
   "outputs": [],
   "source": [
    "df_retention_rate.head()"
   ]
  },
  {
   "cell_type": "markdown",
   "id": "a86b5331",
   "metadata": {},
   "source": [
    "- Tableau 시각화\n",
    "\n",
    "<img src = \"./img/년_월별 고객 리텐션 차트.png\"> <br><br>\n",
    "\n",
    "<img src = \"./img/년_월별 고객 리텐션 표 .png\">"
   ]
  },
  {
   "cell_type": "markdown",
   "id": "a5cd0aa0",
   "metadata": {},
   "source": [
    "- 2010/12\n",
    "    - 해당 코호트에서 신규고객 유입수와 해당 기간에 유입된 신규고객의 재구매율이 가장 우수했음\n",
    "    - 또한 2011/11 에 재구매율이 급등하는 모습을 보임"
   ]
  },
  {
   "cell_type": "markdown",
   "id": "f20667d7",
   "metadata": {},
   "source": [
    "# 가설 1\n",
    "\n",
    "- 신규고객 유입 수가 가장 우수한 2010/12 코호트와 그 외 기간(2011/01~2011/12) 코호트에서 신규 구매자의 가장 많이 구매한 상품(TOP 5)은 다를 것이다.\n",
    "    - 이유 : 2010/12 코호트는 다른 코호트 대비 눈에 띄게 좋은 신규고객 유입 수를 보이고 있기 때문"
   ]
  },
  {
   "cell_type": "markdown",
   "id": "d3813d3c",
   "metadata": {},
   "source": [
    "### sql\n",
    "\n",
    "- 2010/12 신규 구매자의 구매품목 TOP5 \n",
    "\n",
    "```\n",
    "WITH retention_filter AS (\n",
    "    SELECT \n",
    "        InvoiceNo,\n",
    "        CustomerID,\n",
    "        Category,\n",
    "        DATE_FORMAT(Date, '%Y-%m') AS Date,\n",
    "        MIN(DATE_FORMAT(Date, '%Y-%m')) OVER (PARTITION BY CustomerID) AS first_order_month\n",
    "    FROM df_firstpurchase\n",
    ")\n",
    "-- 2010/12그룹\n",
    "SELECT Category,\n",
    "\tCOUNT(DISTINCT CustomerID) AS cnt_customer, -- 해당 카테고리 구매한 고유 고객 수\n",
    "\tROUND(COUNT(DISTINCT CustomerID) * 100 / (SELECT COUNT(DISTINCT CustomerID) FROM retention_filter WHERE first_order_month = '2010-12'), 2) AS customer_pct,     \n",
    "        \n",
    "FROM retention_filter\n",
    "WHERE Date = '2010-12'\n",
    "GROUP BY Category\n",
    "ORDER BY cnt_customer DESC \n",
    "LIMIT 5;\n",
    "```\n",
    "\n",
    "- 2010/12 외 신규 구매자의 구매품목 TOP5 \n",
    "\n",
    "```\n",
    "WITH retention_filter AS (\n",
    "    SELECT \n",
    "        InvoiceNo,\n",
    "        CustomerID,\n",
    "        Category,\n",
    "        DATE_FORMAT(Date, '%Y-%m') AS Date,\n",
    "        MIN(DATE_FORMAT(Date, '%Y-%m')) OVER (PARTITION BY CustomerID) AS first_order_month\n",
    "    FROM df_firstpurchase\n",
    ")\n",
    "-- 2010/12 이외 그룹\n",
    "SELECT Category,\n",
    "\tCOUNT(DISTINCT CustomerID) AS cnt_customer, -- 해당 카테고리 구매한 고유 고객 수\t\n",
    "\tROUND(COUNT(DISTINCT CustomerID) * 100 / (SELECT COUNT(DISTINCT CustomerID) FROM retention_filter WHERE first_order_month != '2010-12'), 2) AS customer_pct,     \n",
    "        \n",
    "FROM retention_filter\n",
    "WHERE Date != '2010-12'\n",
    "GROUP BY Category\n",
    "ORDER BY cnt_customer DESC \n",
    "LIMIT 5;\n",
    "```"
   ]
  },
  {
   "cell_type": "markdown",
   "id": "f6bfc44c",
   "metadata": {},
   "source": [
    "### 컬럼 설명\n",
    "\n",
    "- Category : 상품 카테고리\n",
    "- cnt_customer : 해당 카테고리 구매 고객 수 \n",
    "- customer_pct : 해당 카테고리 구매 신규 고객 수 / 해당 기간 유입된 총 신규고객 수"
   ]
  },
  {
   "cell_type": "markdown",
   "id": "950c58e8",
   "metadata": {},
   "source": [
    "- Tableau 시각화\n",
    "\n",
    "<img src = \"./img/2010 12 비교.png\">"
   ]
  },
  {
   "cell_type": "markdown",
   "id": "2a97e517",
   "metadata": {},
   "source": [
    "- 두 그룹의 Top5 항목에는 몇몇 차이가 있었다\n",
    "\n",
    "- 2010/12 그룹 Top5 항목에는 'holder', 'christmas', 'bag' 가 있었지만 이외 그룹에는 없었고\n",
    "- 이외 그룹 Top5 항목에는 'box', 'set', 'cake' 상품이 있었지만 2010/12 그룹에는 없었다."
   ]
  },
  {
   "cell_type": "markdown",
   "id": "db7503d4",
   "metadata": {},
   "source": [
    "## 가설 2\n",
    "\n",
    "- 'bag', 'holder', 'christmas' 상품의 재구매율은  'box', 'set', 'cake' 상품의 재구매율 보다 우수할것이다.\n",
    "    - 이유 : 재구매율이 우수하였던 2010/12 신규고객들이 다른 기간의 신규 고객들과는 다르게 많이 구매한 상품이 'bag', 'holder', 'christmas' 이기 때문"
   ]
  },
  {
   "cell_type": "markdown",
   "id": "576f26c7",
   "metadata": {},
   "source": [
    "### sql\n",
    "\n",
    "```\n",
    "WITH retail_filter AS (\n",
    "    SELECT *,\n",
    "          MIN(DATE_FORMAT(Date, '%Y-%m-01')) OVER (PARTITION BY CustomerID) AS first_order_month, -- 고객별 첫 구매 월\n",
    "          MIN(Date) OVER (PARTITION BY CustomerID) AS first_order_date  -- 고객별 첫 구매 날짜\n",
    "    FROM df_member dm \n",
    "    WHERE UnitPrice > 0.01  \n",
    "),\n",
    "retention_data AS (\n",
    "    SELECT Category,\n",
    "           COUNT(DISTINCT CustomerID) AS month0, -- 첫 구매 고객 수\n",
    "           COUNT(*) AS total_orders, -- 카테고리의 총 구매 건수\n",
    "           COUNT(DISTINCT CASE WHEN DATE_ADD(first_order_month, INTERVAL 1 MONTH) = DATE_FORMAT(Date, '%Y-%m-01') AND category = Category THEN CustomerID END) AS month1, -- 1개월 후 재구매\n",
    "           COUNT(DISTINCT CASE WHEN DATE_ADD(first_order_month, INTERVAL 2 MONTH) = DATE_FORMAT(Date, '%Y-%m-01') AND category = Category THEN CustomerID END) AS month2,\n",
    "           COUNT(DISTINCT CASE WHEN DATE_ADD(first_order_month, INTERVAL 3 MONTH) = DATE_FORMAT(Date, '%Y-%m-01') AND category = Category THEN CustomerID END) AS month3,\n",
    "           COUNT(DISTINCT CASE WHEN DATE_ADD(first_order_month, INTERVAL 4 MONTH) = DATE_FORMAT(Date, '%Y-%m-01') AND category = Category THEN CustomerID END) AS month4,\n",
    "           COUNT(DISTINCT CASE WHEN DATE_ADD(first_order_month, INTERVAL 5 MONTH) = DATE_FORMAT(Date, '%Y-%m-01') AND category = Category THEN CustomerID END) AS month5,\n",
    "           COUNT(DISTINCT CASE WHEN DATE_ADD(first_order_month, INTERVAL 6 MONTH) = DATE_FORMAT(Date, '%Y-%m-01') AND category = Category THEN CustomerID END) AS month6,\n",
    "           COUNT(DISTINCT CASE WHEN DATE_ADD(first_order_month, INTERVAL 7 MONTH) = DATE_FORMAT(Date, '%Y-%m-01') AND category = Category THEN CustomerID END) AS month7,\n",
    "           COUNT(DISTINCT CASE WHEN DATE_ADD(first_order_month, INTERVAL 8 MONTH) = DATE_FORMAT(Date, '%Y-%m-01') AND category = Category THEN CustomerID END) AS month8,\n",
    "           COUNT(DISTINCT CASE WHEN DATE_ADD(first_order_month, INTERVAL 9 MONTH) = DATE_FORMAT(Date, '%Y-%m-01') AND category = Category THEN CustomerID END) AS month9,\n",
    "           COUNT(DISTINCT CASE WHEN DATE_ADD(first_order_month, INTERVAL 10 MONTH) = DATE_FORMAT(Date, '%Y-%m-01') AND category = Category THEN CustomerID END) AS month10,\n",
    "           COUNT(DISTINCT CASE WHEN DATE_ADD(first_order_month, INTERVAL 11 MONTH) = DATE_FORMAT(Date, '%Y-%m-01') AND category = Category THEN CustomerID END) AS month11\n",
    "    FROM retail_filter\n",
    "    GROUP BY Category\n",
    "),\n",
    "retention_pct AS (\n",
    "    SELECT Category,\n",
    "           month0,\n",
    "           total_orders, -- 카테고리의 총 구매 건수 계산\n",
    "           ROUND(IF(month1 = 0, 0, month1 / month0 * 100), 2) AS month1_pct,\n",
    "           ROUND(IF(month2 = 0, 0, month2 / month0 * 100), 2) AS month2_pct,\n",
    "           ROUND(IF(month3 = 0, 0, month3 / month0 * 100), 2) AS month3_pct,\n",
    "           ROUND(IF(month4 = 0, 0, month4 / month0 * 100), 2) AS month4_pct,\n",
    "           ROUND(IF(month5 = 0, 0, month5 / month0 * 100), 2) AS month5_pct,\n",
    "           ROUND(IF(month6 = 0, 0, month6 / month0 * 100), 2) AS month6_pct,\n",
    "           ROUND(IF(month7 = 0, 0, month7 / month0 * 100), 2) AS month7_pct,\n",
    "           ROUND(IF(month8 = 0, 0, month8 / month0 * 100), 2) AS month8_pct,\n",
    "           ROUND(IF(month9 = 0, 0, month9 / month0 * 100), 2) AS month9_pct,\n",
    "           ROUND(IF(month10 = 0, 0, month10 / month0 * 100), 2) AS month10_pct,\n",
    "           ROUND(IF(month11 = 0, 0, month11 / month0 * 100), 2) AS month11_pct\n",
    "    FROM retention_data\n",
    "),\n",
    "average_retention AS (\n",
    "    SELECT Category,\n",
    "           total_orders, -- 총 구매 건수 계산\n",
    "           ROUND((month1_pct + month2_pct + month3_pct + month4_pct + month5_pct + month6_pct + month7_pct + month8_pct + month9_pct + month10_pct + month11_pct) / 11, 2) AS avg_retention_rate\n",
    "    FROM retention_pct\n",
    ")\n",
    "SELECT Category, \n",
    "\t\ttotal_orders, \n",
    "\t\tavg_retention_rate\n",
    "FROM average_retention\n",
    "ORDER BY avg_retention_rate DESC ;\n",
    "```"
   ]
  },
  {
   "cell_type": "markdown",
   "id": "165d9499",
   "metadata": {},
   "source": [
    "- Tableau 시각화 \n",
    "\n",
    "<img src = \"./img/평균 재구매율 비교.png\">"
   ]
  },
  {
   "cell_type": "markdown",
   "id": "135abf6a",
   "metadata": {},
   "source": [
    "- 2010/12의 Top5 중 'christmas' 를 제외한 'bag' 와 'holder' 상품의 재구매율은 이외 기간의 Top5 상품의 재구매율 보다 우수하였다.\n",
    "- 따라서 'bag'와 'holder' 상품이 2010/12 코호트의 재구매율을 높이는데 긍정적인 영향을 끼쳤다는 것을 알 수 있다."
   ]
  },
  {
   "cell_type": "markdown",
   "id": "89b75d9f",
   "metadata": {},
   "source": [
    "## 가설 3 \n",
    "\n",
    "- 'christmas' 상품은 특정 '월'에 재구매율과 구매량이 증가할 것이다.\n",
    "    - 이유 : 'christmas' 상품은 '12/25' 을 위해 만들어진 상품이기 때문"
   ]
  },
  {
   "cell_type": "markdown",
   "id": "31e24e8f",
   "metadata": {},
   "source": [
    "### sql\n",
    "\n",
    "```\n",
    "WITH retail_filter AS (\n",
    "    SELECT * ,\n",
    "          MIN(DATE_FORMAT(Date, '%Y-%m-01')) OVER (PARTITION BY CustomerID) AS first_order_month , -- 고객별 첫구매 월\n",
    "          MIN(Date) OVER (PARTITION BY CustomerID) AS first_order_date  -- 고객별 첫구매 날짜 \n",
    "    FROM df_member dm \n",
    "    WHERE UnitPrice > 0.01  \n",
    ") \n",
    "SELECT cohort\n",
    "      ,month0\n",
    "      ,ROUND(IF(month1 = 0, 0, month1 / month0 * 100) ,2) AS month1_pct -- n개월 후 재구매율\n",
    "      ,ROUND(IF(month2 = 0, 0, month2 / month0 * 100) ,2) AS month2_pct\n",
    "      ,ROUND(IF(month3 = 0, 0, month3 / month0 * 100) ,2) AS month3_pct\n",
    "      ,ROUND(IF(month4 = 0, 0, month4 / month0 * 100) ,2) AS month4_pct\n",
    "      ,ROUND(IF(month5 = 0, 0, month5 / month0 * 100) ,2) AS month5_pct\n",
    "      ,ROUND(IF(month6 = 0, 0, month6 / month0 * 100) ,2) AS month6_pct\n",
    "      ,ROUND(IF(month7 = 0, 0, month7 / month0 * 100) ,2) AS month7_pct\n",
    "      ,ROUND(IF(month8 = 0, 0, month8 / month0 * 100) ,2) AS month8_pct\n",
    "      ,ROUND(IF(month9 = 0, 0, month9 / month0 * 100) ,2) AS month9_pct\n",
    "      ,ROUND(IF(month10 = 0, 0, month10 / month0 * 100) ,2) AS month10_pct\n",
    "      ,ROUND(IF(month11 = 0, 0, month11 / month0 * 100) ,2) AS month11_pct\n",
    "FROM (\n",
    "        SELECT   cohort ,\n",
    "\t\t         COUNT(DISTINCT CustomerID) AS month0 , -- 재구매 횟수 계산\n",
    "\t\t         COUNT(DISTINCT CASE WHEN DATE_ADD(first_order_month, INTERVAL 1 MONTH) = DATE_FORMAT(Date, '%Y-%m-01') THEN CustomerID END) AS month1 , -- n개월 이후 재구매 횟수\n",
    "\t\t         COUNT(DISTINCT CASE WHEN DATE_ADD(first_order_month, INTERVAL 2 MONTH) = DATE_FORMAT(Date, '%Y-%m-01') THEN CustomerID END) AS month2 ,\n",
    "\t\t         COUNT(DISTINCT CASE WHEN DATE_ADD(first_order_month, INTERVAL 3 MONTH) = DATE_FORMAT(Date, '%Y-%m-01') THEN CustomerID END) AS month3 ,\n",
    "\t\t         COUNT(DISTINCT CASE WHEN DATE_ADD(first_order_month, INTERVAL 4 MONTH) = DATE_FORMAT(Date, '%Y-%m-01') THEN CustomerID END) AS month4 ,\n",
    "\t\t         COUNT(DISTINCT CASE WHEN DATE_ADD(first_order_month, INTERVAL 5 MONTH) = DATE_FORMAT(Date, '%Y-%m-01') THEN CustomerID END) AS month5 ,\n",
    "\t\t         COUNT(DISTINCT CASE WHEN DATE_ADD(first_order_month, INTERVAL 6 MONTH) = DATE_FORMAT(Date, '%Y-%m-01') THEN CustomerID END) AS month6 ,\n",
    "\t\t         COUNT(DISTINCT CASE WHEN DATE_ADD(first_order_month, INTERVAL 7 MONTH) = DATE_FORMAT(Date, '%Y-%m-01') THEN CustomerID END) AS month7 ,\n",
    "\t\t         COUNT(DISTINCT CASE WHEN DATE_ADD(first_order_month, INTERVAL 8 MONTH) = DATE_FORMAT(Date, '%Y-%m-01') THEN CustomerID END) AS month8 ,\n",
    "\t\t         COUNT(DISTINCT CASE WHEN DATE_ADD(first_order_month, INTERVAL 9 MONTH) = DATE_FORMAT(Date, '%Y-%m-01') THEN CustomerID END) AS month9 ,\n",
    "\t\t         COUNT(DISTINCT CASE WHEN DATE_ADD(first_order_month, INTERVAL 10 MONTH) = DATE_FORMAT(Date, '%Y-%m-01') THEN CustomerID END) AS month10 ,\n",
    "\t\t         COUNT(DISTINCT CASE WHEN DATE_ADD(first_order_month, INTERVAL 11 MONTH) = DATE_FORMAT(Date, '%Y-%m-01') THEN CustomerID END) AS month11 ,\n",
    "\t\t\t\t COUNT(DISTINCT CASE WHEN DATE_ADD(first_order_month, INTERVAL 12 MONTH) = DATE_FORMAT(Date, '%Y-%m-01') THEN CustomerID END) AS month12\n",
    "\t\tFROM (SELECT * , -- 크리스마스 구매고객 구분\n",
    "\t\t\t  \tCASE WHEN CustomerID IN ( SELECT DISTINCT CustomerId   -- 첫구매가 크리스마스상품인 고객 추출\n",
    "\t\t                                       FROM retail_filter\n",
    "\t\t                            \t       WHERE Date = first_order_date \n",
    "\t\t                            \t\t   AND category = 'christmas' )\n",
    "\t\t        THEN 'christmas'\n",
    "\t\t        ELSE 'non_christmas' \n",
    "\t\t        END AS 'cohort'\n",
    "\t\t\t    FROM retail_filter)season\n",
    "\t\tGROUP BY cohort  \n",
    "     )retention_pct;\n",
    "```"
   ]
  },
  {
   "cell_type": "markdown",
   "id": "029e8af2",
   "metadata": {},
   "source": [
    "- Tableau 시각화 <br><br>\n",
    "\n",
    "- 크리스마스 상품 재구매율 vs 그외 상품 재구매율\n",
    "<img src = \"./img/크리스마스 vs 그 외 상품 (line).png\">\n",
    "\n",
    "<img src = \"./img/년_월별 크리스 마스 상품 구매량.png\">"
   ]
  },
  {
   "cell_type": "markdown",
   "id": "d7f33789",
   "metadata": {},
   "source": [
    "- 'christmas' 상품을 구매했던 고객의 'christmas' 상품 재구매율은 11월에 다시 증가했다.\n",
    "- 'christmas' 상품의 구매량은 9월~12월에 급증하는 모습을 보였다."
   ]
  }
 ],
 "metadata": {
  "kernelspec": {
   "display_name": "Python 3",
   "language": "python",
   "name": "python3"
  },
  "language_info": {
   "codemirror_mode": {
    "name": "ipython",
    "version": 3
   },
   "file_extension": ".py",
   "mimetype": "text/x-python",
   "name": "python",
   "nbconvert_exporter": "python",
   "pygments_lexer": "ipython3",
   "version": "3.8.8"
  }
 },
 "nbformat": 4,
 "nbformat_minor": 5
}
