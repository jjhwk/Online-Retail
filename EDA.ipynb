{
 "cells": [
  {
   "cell_type": "code",
   "execution_count": 1,
   "id": "1c61aa66",
   "metadata": {},
   "outputs": [],
   "source": [
    "import pandas as pd\n",
    "import numpy as np\n",
    "import seaborn as sns\n",
    "import datetime as dt\n",
    "import matplotlib.pyplot as plt\n",
    "from scipy.stats import mode\n",
    "from sklearn.feature_extraction.text import TfidfVectorizer"
   ]
  },
  {
   "cell_type": "markdown",
   "id": "a9096e61",
   "metadata": {},
   "source": [
    "# 목표\n",
    "- 우리 서비스를 이용하고 있는 고객들의 **코호트 분석**을 통해 **신규 고객 유치와 재구매율**을 높일 수 있는 솔루션을 도출해내자"
   ]
  },
  {
   "cell_type": "code",
   "execution_count": 2,
   "id": "77dd36fb",
   "metadata": {},
   "outputs": [],
   "source": [
    "df = pd.read_csv(\"./data/online_retail.csv\")"
   ]
  },
  {
   "cell_type": "markdown",
   "id": "521f82ec",
   "metadata": {},
   "source": [
    "# EDA"
   ]
  },
  {
   "cell_type": "markdown",
   "id": "a4d586c6",
   "metadata": {},
   "source": [
    "## 컬럼정보"
   ]
  },
  {
   "cell_type": "code",
   "execution_count": 3,
   "id": "3a6bd8fe",
   "metadata": {},
   "outputs": [],
   "source": [
    "# InvoiceNo: 송장 번호. 명목, 각 거래에 고유하게 할당된 6자리 정수. 이 코드가 문자 'c'로 시작하면 취소를 나타냅니다.\n",
    "# StockCode: 제품(품목) 코드. 명목, 각 고유한 제품에 고유하게 할당된 5자리 정수.\n",
    "# Description: 제품(품목) 이름. 명목.\n",
    "# Quantity: 거래당 각 제품(품목)의 수량. 숫자.\n",
    "# InvoiceDate: 송장 날짜 및 시간. 숫자, 각 거래가 생성된 날짜와 시간.\n",
    "# UnitPrice: 단가. 숫자, 파운드로 표시된 단위당 제품 가격.\n",
    "# CustomerID: 고객 번호. 명목, 각 고객에게 고유하게 할당된 5자리 정수.\n",
    "# Country: 국가 이름. 명목, 각 고객이 거주하는 국가의 이름. \n",
    "# TotalPrice : 해당 주문번호 총 금액입니다.(UnitPrice * CustomerID)"
   ]
  },
  {
   "cell_type": "code",
   "execution_count": 4,
   "id": "2c4c101e",
   "metadata": {},
   "outputs": [
    {
     "data": {
      "text/html": [
       "<div>\n",
       "<style scoped>\n",
       "    .dataframe tbody tr th:only-of-type {\n",
       "        vertical-align: middle;\n",
       "    }\n",
       "\n",
       "    .dataframe tbody tr th {\n",
       "        vertical-align: top;\n",
       "    }\n",
       "\n",
       "    .dataframe thead th {\n",
       "        text-align: right;\n",
       "    }\n",
       "</style>\n",
       "<table border=\"1\" class=\"dataframe\">\n",
       "  <thead>\n",
       "    <tr style=\"text-align: right;\">\n",
       "      <th></th>\n",
       "      <th>InvoiceNo</th>\n",
       "      <th>StockCode</th>\n",
       "      <th>Description</th>\n",
       "      <th>Quantity</th>\n",
       "      <th>InvoiceDate</th>\n",
       "      <th>UnitPrice</th>\n",
       "      <th>CustomerID</th>\n",
       "      <th>Country</th>\n",
       "      <th>TotalPrice</th>\n",
       "    </tr>\n",
       "  </thead>\n",
       "  <tbody>\n",
       "    <tr>\n",
       "      <th>0</th>\n",
       "      <td>536365</td>\n",
       "      <td>85123A</td>\n",
       "      <td>WHITE HANGING HEART T-LIGHT HOLDER</td>\n",
       "      <td>6</td>\n",
       "      <td>2010-12-01 08:26:00</td>\n",
       "      <td>2.55</td>\n",
       "      <td>17850.0</td>\n",
       "      <td>United Kingdom</td>\n",
       "      <td>15.30</td>\n",
       "    </tr>\n",
       "    <tr>\n",
       "      <th>1</th>\n",
       "      <td>536365</td>\n",
       "      <td>71053</td>\n",
       "      <td>WHITE METAL LANTERN</td>\n",
       "      <td>6</td>\n",
       "      <td>2010-12-01 08:26:00</td>\n",
       "      <td>3.39</td>\n",
       "      <td>17850.0</td>\n",
       "      <td>United Kingdom</td>\n",
       "      <td>20.34</td>\n",
       "    </tr>\n",
       "    <tr>\n",
       "      <th>2</th>\n",
       "      <td>536365</td>\n",
       "      <td>84406B</td>\n",
       "      <td>CREAM CUPID HEARTS COAT HANGER</td>\n",
       "      <td>8</td>\n",
       "      <td>2010-12-01 08:26:00</td>\n",
       "      <td>2.75</td>\n",
       "      <td>17850.0</td>\n",
       "      <td>United Kingdom</td>\n",
       "      <td>22.00</td>\n",
       "    </tr>\n",
       "    <tr>\n",
       "      <th>3</th>\n",
       "      <td>536365</td>\n",
       "      <td>84029G</td>\n",
       "      <td>KNITTED UNION FLAG HOT WATER BOTTLE</td>\n",
       "      <td>6</td>\n",
       "      <td>2010-12-01 08:26:00</td>\n",
       "      <td>3.39</td>\n",
       "      <td>17850.0</td>\n",
       "      <td>United Kingdom</td>\n",
       "      <td>20.34</td>\n",
       "    </tr>\n",
       "    <tr>\n",
       "      <th>4</th>\n",
       "      <td>536365</td>\n",
       "      <td>84029E</td>\n",
       "      <td>RED WOOLLY HOTTIE WHITE HEART.</td>\n",
       "      <td>6</td>\n",
       "      <td>2010-12-01 08:26:00</td>\n",
       "      <td>3.39</td>\n",
       "      <td>17850.0</td>\n",
       "      <td>United Kingdom</td>\n",
       "      <td>20.34</td>\n",
       "    </tr>\n",
       "  </tbody>\n",
       "</table>\n",
       "</div>"
      ],
      "text/plain": [
       "  InvoiceNo StockCode                          Description  Quantity  \\\n",
       "0    536365    85123A   WHITE HANGING HEART T-LIGHT HOLDER         6   \n",
       "1    536365     71053                  WHITE METAL LANTERN         6   \n",
       "2    536365    84406B       CREAM CUPID HEARTS COAT HANGER         8   \n",
       "3    536365    84029G  KNITTED UNION FLAG HOT WATER BOTTLE         6   \n",
       "4    536365    84029E       RED WOOLLY HOTTIE WHITE HEART.         6   \n",
       "\n",
       "           InvoiceDate  UnitPrice  CustomerID         Country  TotalPrice  \n",
       "0  2010-12-01 08:26:00       2.55     17850.0  United Kingdom       15.30  \n",
       "1  2010-12-01 08:26:00       3.39     17850.0  United Kingdom       20.34  \n",
       "2  2010-12-01 08:26:00       2.75     17850.0  United Kingdom       22.00  \n",
       "3  2010-12-01 08:26:00       3.39     17850.0  United Kingdom       20.34  \n",
       "4  2010-12-01 08:26:00       3.39     17850.0  United Kingdom       20.34  "
      ]
     },
     "execution_count": 4,
     "metadata": {},
     "output_type": "execute_result"
    }
   ],
   "source": [
    "df.head()"
   ]
  },
  {
   "cell_type": "code",
   "execution_count": 5,
   "id": "a0c9eb00",
   "metadata": {},
   "outputs": [
    {
     "name": "stdout",
     "output_type": "stream",
     "text": [
      "<class 'pandas.core.frame.DataFrame'>\n",
      "RangeIndex: 541909 entries, 0 to 541908\n",
      "Data columns (total 9 columns):\n",
      " #   Column       Non-Null Count   Dtype  \n",
      "---  ------       --------------   -----  \n",
      " 0   InvoiceNo    541909 non-null  object \n",
      " 1   StockCode    541909 non-null  object \n",
      " 2   Description  540455 non-null  object \n",
      " 3   Quantity     541909 non-null  int64  \n",
      " 4   InvoiceDate  541909 non-null  object \n",
      " 5   UnitPrice    541909 non-null  float64\n",
      " 6   CustomerID   406829 non-null  float64\n",
      " 7   Country      541909 non-null  object \n",
      " 8   TotalPrice   541909 non-null  float64\n",
      "dtypes: float64(3), int64(1), object(5)\n",
      "memory usage: 37.2+ MB\n"
     ]
    }
   ],
   "source": [
    "df.info()"
   ]
  },
  {
   "cell_type": "markdown",
   "id": "f9122b7b",
   "metadata": {},
   "source": [
    "## 결측치 확인"
   ]
  },
  {
   "cell_type": "code",
   "execution_count": 6,
   "id": "aa3f40db",
   "metadata": {},
   "outputs": [
    {
     "data": {
      "text/plain": [
       "InvoiceNo           0\n",
       "StockCode           0\n",
       "Description      1454\n",
       "Quantity            0\n",
       "InvoiceDate         0\n",
       "UnitPrice           0\n",
       "CustomerID     135080\n",
       "Country             0\n",
       "TotalPrice          0\n",
       "dtype: int64"
      ]
     },
     "execution_count": 6,
     "metadata": {},
     "output_type": "execute_result"
    }
   ],
   "source": [
    "# 결측치 수\n",
    "df.isna().sum()"
   ]
  },
  {
   "cell_type": "code",
   "execution_count": 7,
   "id": "628379fd",
   "metadata": {},
   "outputs": [
    {
     "data": {
      "text/plain": [
       "InvoiceNo      0.000000\n",
       "StockCode      0.000000\n",
       "Description    0.002683\n",
       "Quantity       0.000000\n",
       "InvoiceDate    0.000000\n",
       "UnitPrice      0.000000\n",
       "CustomerID     0.249267\n",
       "Country        0.000000\n",
       "TotalPrice     0.000000\n",
       "dtype: float64"
      ]
     },
     "execution_count": 7,
     "metadata": {},
     "output_type": "execute_result"
    }
   ],
   "source": [
    "# 결측치 비율\n",
    "df.isna().mean()"
   ]
  },
  {
   "cell_type": "markdown",
   "id": "42f272d7",
   "metadata": {},
   "source": [
    "- Description, CustomerID 각각 1454, 135080 건의 결측치 확인\n",
    "    - CustomerID의 결측치는 비회원 고객인 것으로 판단하였음\n",
    "    - 상품명이 없는 주문 건수 1454회\n",
    "    - 비회원 고객 주문 건수는 135080(약 25%)"
   ]
  },
  {
   "cell_type": "markdown",
   "id": "e102c781",
   "metadata": {},
   "source": [
    "## 카테고리별 고유값 확인"
   ]
  },
  {
   "cell_type": "code",
   "execution_count": 8,
   "id": "b477285e",
   "metadata": {
    "scrolled": true
   },
   "outputs": [
    {
     "data": {
      "text/plain": [
       "InvoiceNo      25900\n",
       "StockCode       4070\n",
       "Description     4223\n",
       "Quantity         722\n",
       "InvoiceDate    23260\n",
       "UnitPrice       1630\n",
       "CustomerID      4372\n",
       "Country           38\n",
       "TotalPrice      5998\n",
       "dtype: int64"
      ]
     },
     "execution_count": 8,
     "metadata": {},
     "output_type": "execute_result"
    }
   ],
   "source": [
    "df.nunique()"
   ]
  },
  {
   "cell_type": "markdown",
   "id": "bb20de68",
   "metadata": {},
   "source": [
    "- 총 25900 번의 송장 배송건이 있었음\n",
    "- 상품코드와 제품명의 고유값 수가 일치하지 않음(각각 4070, 4223) -> 다른 상품이어도 같은 코드명으로 분리 되는 경우가 있는듯함 (결측값 포함하여 1607 종류의 차이가 있음)\n",
    "     - 제품코드 기준으로 상품명 통일화 전처리 진행\n",
    "         - 제품 코드를 기준으로 한 이유? : 1.제품명에는 결측값이 포함되어 있음 2. 고유값 수가 더 많은것을 기준으로 하면 고유값 수가 적은 쪽에서 새로운 결측값이 생길 수 있기 때문에\n",
    "        "
   ]
  },
  {
   "cell_type": "markdown",
   "id": "3d436112",
   "metadata": {},
   "source": [
    "## 이상치 확인"
   ]
  },
  {
   "cell_type": "code",
   "execution_count": 9,
   "id": "9a1000e7",
   "metadata": {},
   "outputs": [
    {
     "data": {
      "text/html": [
       "<div>\n",
       "<style scoped>\n",
       "    .dataframe tbody tr th:only-of-type {\n",
       "        vertical-align: middle;\n",
       "    }\n",
       "\n",
       "    .dataframe tbody tr th {\n",
       "        vertical-align: top;\n",
       "    }\n",
       "\n",
       "    .dataframe thead th {\n",
       "        text-align: right;\n",
       "    }\n",
       "</style>\n",
       "<table border=\"1\" class=\"dataframe\">\n",
       "  <thead>\n",
       "    <tr style=\"text-align: right;\">\n",
       "      <th></th>\n",
       "      <th>Quantity</th>\n",
       "      <th>UnitPrice</th>\n",
       "      <th>CustomerID</th>\n",
       "      <th>TotalPrice</th>\n",
       "    </tr>\n",
       "  </thead>\n",
       "  <tbody>\n",
       "    <tr>\n",
       "      <th>count</th>\n",
       "      <td>541909.000000</td>\n",
       "      <td>541909.000000</td>\n",
       "      <td>406829.000000</td>\n",
       "      <td>541909.000000</td>\n",
       "    </tr>\n",
       "    <tr>\n",
       "      <th>mean</th>\n",
       "      <td>9.552250</td>\n",
       "      <td>4.611114</td>\n",
       "      <td>15287.690570</td>\n",
       "      <td>17.987795</td>\n",
       "    </tr>\n",
       "    <tr>\n",
       "      <th>std</th>\n",
       "      <td>218.081158</td>\n",
       "      <td>96.759853</td>\n",
       "      <td>1713.600303</td>\n",
       "      <td>378.810824</td>\n",
       "    </tr>\n",
       "    <tr>\n",
       "      <th>min</th>\n",
       "      <td>-80995.000000</td>\n",
       "      <td>-11062.060000</td>\n",
       "      <td>12346.000000</td>\n",
       "      <td>-168469.600000</td>\n",
       "    </tr>\n",
       "    <tr>\n",
       "      <th>25%</th>\n",
       "      <td>1.000000</td>\n",
       "      <td>1.250000</td>\n",
       "      <td>13953.000000</td>\n",
       "      <td>3.400000</td>\n",
       "    </tr>\n",
       "    <tr>\n",
       "      <th>50%</th>\n",
       "      <td>3.000000</td>\n",
       "      <td>2.080000</td>\n",
       "      <td>15152.000000</td>\n",
       "      <td>9.750000</td>\n",
       "    </tr>\n",
       "    <tr>\n",
       "      <th>75%</th>\n",
       "      <td>10.000000</td>\n",
       "      <td>4.130000</td>\n",
       "      <td>16791.000000</td>\n",
       "      <td>17.400000</td>\n",
       "    </tr>\n",
       "    <tr>\n",
       "      <th>max</th>\n",
       "      <td>80995.000000</td>\n",
       "      <td>38970.000000</td>\n",
       "      <td>18287.000000</td>\n",
       "      <td>168469.600000</td>\n",
       "    </tr>\n",
       "  </tbody>\n",
       "</table>\n",
       "</div>"
      ],
      "text/plain": [
       "            Quantity      UnitPrice     CustomerID     TotalPrice\n",
       "count  541909.000000  541909.000000  406829.000000  541909.000000\n",
       "mean        9.552250       4.611114   15287.690570      17.987795\n",
       "std       218.081158      96.759853    1713.600303     378.810824\n",
       "min    -80995.000000  -11062.060000   12346.000000 -168469.600000\n",
       "25%         1.000000       1.250000   13953.000000       3.400000\n",
       "50%         3.000000       2.080000   15152.000000       9.750000\n",
       "75%        10.000000       4.130000   16791.000000      17.400000\n",
       "max     80995.000000   38970.000000   18287.000000  168469.600000"
      ]
     },
     "execution_count": 9,
     "metadata": {},
     "output_type": "execute_result"
    }
   ],
   "source": [
    "df.describe()"
   ]
  },
  {
   "cell_type": "code",
   "execution_count": 10,
   "id": "438cbd52",
   "metadata": {},
   "outputs": [
    {
     "data": {
      "image/png": "[encoded data removed]",
      "text/plain": [
       "<Figure size 720x360 with 4 Axes>"
      ]
     },
     "metadata": {
      "needs_background": "light"
     },
     "output_type": "display_data"
    }
   ],
   "source": [
    "df.hist(figsize=(10, 5), bins=100);"
   ]
  },
  {
   "cell_type": "markdown",
   "id": "91b80fc5",
   "metadata": {},
   "source": [
    "- Quantity, UnitPrice, TotalPrice 에는 이상치가 있음 -> 대부분의 값은 각각 1 ~ 10, 1 ~ 5, 3 ~ 18 사이에 있음 "
   ]
  },
  {
   "cell_type": "markdown",
   "id": "39388f56",
   "metadata": {},
   "source": [
    "## 상품명 통일화\n",
    "- 제품별 판매 빈도수 확인 하는 도중 이상한 이름의 제품명 확인\n",
    "    - (ex : 85123A 이면 제품명이 ?,na, WHITE HANGING HEART T-LIGHT HOLDER, CREAM HANGING HEART T-LIGHT HOLDER)\n",
    "- 동일한 제품 코드면 각 제품 코드별 최빈 제품명으로 통일"
   ]
  },
  {
   "cell_type": "code",
   "execution_count": 11,
   "id": "94029d7b",
   "metadata": {},
   "outputs": [
    {
     "data": {
      "text/plain": [
       "array(['WHITE HANGING HEART T-LIGHT HOLDER', '?',\n",
       "       'wrongly marked carton 22804',\n",
       "       'CREAM HANGING HEART T-LIGHT HOLDER'], dtype=object)"
      ]
     },
     "execution_count": 11,
     "metadata": {},
     "output_type": "execute_result"
    }
   ],
   "source": [
    "df[df['StockCode'] == '85123A']['Description'].unique()"
   ]
  },
  {
   "cell_type": "code",
   "execution_count": 12,
   "id": "f601a2e2",
   "metadata": {},
   "outputs": [
    {
     "name": "stderr",
     "output_type": "stream",
     "text": [
      "<ipython-input-12-47ab5ea52f2e>:2: FutureWarning: Unlike other reduction functions (e.g. `skew`, `kurtosis`), the default behavior of `mode` typically preserves the axis it acts along. In SciPy 1.11.0, this behavior will change: the default value of `keepdims` will become False, the `axis` over which the statistic is taken will be eliminated, and the value None will no longer be accepted. Set `keepdims` to True or False to avoid this warning.\n",
      "  mode_function = lambda x: mode(x)[0][0]\n",
      "<ipython-input-12-47ab5ea52f2e>:2: DeprecationWarning: Support for non-numeric arrays has been deprecated as of SciPy 1.9.0 and will be removed in 1.11.0. `pandas.DataFrame.mode` can be used instead, see https://pandas.pydata.org/docs/reference/api/pandas.DataFrame.mode.html.\n",
      "  mode_function = lambda x: mode(x)[0][0]\n"
     ]
    }
   ],
   "source": [
    "# 제품 코드 기준으로 가장 많이 등장하는 상품명으로 통일화 진행\n",
    "mode_function = lambda x: mode(x)[0][0]\n",
    "df['Description'] = df.groupby('StockCode')['Description'].transform(mode_function)"
   ]
  },
  {
   "cell_type": "code",
   "execution_count": 13,
   "id": "37120374",
   "metadata": {},
   "outputs": [
    {
     "data": {
      "text/plain": [
       "array(['WHITE HANGING HEART T-LIGHT HOLDER'], dtype=object)"
      ]
     },
     "execution_count": 13,
     "metadata": {},
     "output_type": "execute_result"
    }
   ],
   "source": [
    "# 통일 후\n",
    "df[df['StockCode'] == '85123A']['Description'].unique()"
   ]
  },
  {
   "cell_type": "markdown",
   "id": "033dfa7c",
   "metadata": {},
   "source": [
    "- '85123A' 에 해당하는 상품 코드 \n",
    "    - 전 : 'WHITE HANGING HEART T-LIGHT HOLDER', '?', 'wrongly marked carton 22804','CREAM HANGING HEART T-LIGHT HOLDER'\n",
    "    - 후 : 'WHITE HANGING HEART T-LIGHT HOLDER'"
   ]
  },
  {
   "cell_type": "code",
   "execution_count": 14,
   "id": "dfbbe44f",
   "metadata": {},
   "outputs": [
    {
     "name": "stdout",
     "output_type": "stream",
     "text": [
      "<class 'pandas.core.frame.DataFrame'>\n",
      "RangeIndex: 541909 entries, 0 to 541908\n",
      "Data columns (total 9 columns):\n",
      " #   Column       Non-Null Count   Dtype  \n",
      "---  ------       --------------   -----  \n",
      " 0   InvoiceNo    541909 non-null  object \n",
      " 1   StockCode    541909 non-null  object \n",
      " 2   Description  541725 non-null  object \n",
      " 3   Quantity     541909 non-null  int64  \n",
      " 4   InvoiceDate  541909 non-null  object \n",
      " 5   UnitPrice    541909 non-null  float64\n",
      " 6   CustomerID   406829 non-null  float64\n",
      " 7   Country      541909 non-null  object \n",
      " 8   TotalPrice   541909 non-null  float64\n",
      "dtypes: float64(3), int64(1), object(5)\n",
      "memory usage: 37.2+ MB\n"
     ]
    }
   ],
   "source": [
    "df.info()"
   ]
  },
  {
   "cell_type": "code",
   "execution_count": 15,
   "id": "1de351c3",
   "metadata": {},
   "outputs": [
    {
     "data": {
      "text/plain": [
       "InvoiceNo           0\n",
       "StockCode           0\n",
       "Description       184\n",
       "Quantity            0\n",
       "InvoiceDate         0\n",
       "UnitPrice           0\n",
       "CustomerID     135080\n",
       "Country             0\n",
       "TotalPrice          0\n",
       "dtype: int64"
      ]
     },
     "execution_count": 15,
     "metadata": {},
     "output_type": "execute_result"
    }
   ],
   "source": [
    "df.isna().sum()"
   ]
  },
  {
   "cell_type": "markdown",
   "id": "a249d6e0",
   "metadata": {},
   "source": [
    "- 같은 제품코드 기준으로 제품명을 통일화 했지만 여전히 제품명에 NULL값 존재(184개)"
   ]
  },
  {
   "cell_type": "markdown",
   "id": "32d68437",
   "metadata": {},
   "source": [
    "### 제품명이 Null 인 제품코드 찾기"
   ]
  },
  {
   "cell_type": "code",
   "execution_count": 16,
   "id": "b34c792b",
   "metadata": {},
   "outputs": [],
   "source": [
    "invoice_counts = df[df['Description'].isna()]['InvoiceNo'].value_counts()"
   ]
  },
  {
   "cell_type": "code",
   "execution_count": 17,
   "id": "11ec7e9a",
   "metadata": {},
   "outputs": [
    {
     "name": "stdout",
     "output_type": "stream",
     "text": [
      "1\n",
      "1\n"
     ]
    }
   ],
   "source": [
    "print(invoice_counts.max())\n",
    "print(invoice_counts.min())"
   ]
  },
  {
   "cell_type": "code",
   "execution_count": 18,
   "id": "2c1cea77",
   "metadata": {},
   "outputs": [
    {
     "data": {
      "image/png": "[encoded data removed]",
      "text/plain": [
       "<Figure size 720x432 with 1 Axes>"
      ]
     },
     "metadata": {
      "needs_background": "light"
     },
     "output_type": "display_data"
    }
   ],
   "source": [
    "plt.figure(figsize=(10, 6))\n",
    "invoice_counts.plot(kind='bar', color='skyblue')\n",
    "plt.title('Description == NULL')\n",
    "plt.xlabel('InvoiceNo')\n",
    "plt.ylabel('Count')\n",
    "plt.xticks()\n",
    "plt.show()"
   ]
  },
  {
   "cell_type": "markdown",
   "id": "cdaa5b4c",
   "metadata": {},
   "source": [
    "- 제품명이 NULL 인 각 제품코드의 주문 건수는 모두 1임\n",
    "    - 어떤상품인지 확인하기 어렵고 재주문 건수도 없으므로 해당 데이터는 삭제하기로 함"
   ]
  },
  {
   "cell_type": "markdown",
   "id": "eec973ff",
   "metadata": {},
   "source": [
    "## 상품명 NuLL인 데이터 행 삭제"
   ]
  },
  {
   "cell_type": "code",
   "execution_count": 19,
   "id": "d8b29595",
   "metadata": {},
   "outputs": [],
   "source": [
    "df = df.dropna(subset=['Description'])"
   ]
  },
  {
   "cell_type": "code",
   "execution_count": 20,
   "id": "5ea4aa54",
   "metadata": {},
   "outputs": [
    {
     "data": {
      "text/plain": [
       "InvoiceNo           0\n",
       "StockCode           0\n",
       "Description         0\n",
       "Quantity            0\n",
       "InvoiceDate         0\n",
       "UnitPrice           0\n",
       "CustomerID     134922\n",
       "Country             0\n",
       "TotalPrice          0\n",
       "dtype: int64"
      ]
     },
     "execution_count": 20,
     "metadata": {},
     "output_type": "execute_result"
    }
   ],
   "source": [
    "df.isna().sum()"
   ]
  },
  {
   "cell_type": "markdown",
   "id": "036e66dd",
   "metadata": {},
   "source": [
    "## 구매 날짜 시간 나누기\n",
    "\n",
    "- 현재 날짜 데이터는 년-월-일 시:분:초 하나로 묶여져있음\n",
    "- 기간별 코호트 분석을 위해 년-월-일 과 시:분:초 컬럼으로 나누는 것이 좋겠다고 생각하였음"
   ]
  },
  {
   "cell_type": "code",
   "execution_count": 21,
   "id": "b443bb09",
   "metadata": {},
   "outputs": [],
   "source": [
    "Date = []\n",
    "for i in df[\"InvoiceDate\"]:\n",
    "    Date.append(i[:10])\n",
    "\n",
    "Time = []\n",
    "for i in df[\"InvoiceDate\"]:\n",
    "    Time.append(i[11:])"
   ]
  },
  {
   "cell_type": "code",
   "execution_count": 22,
   "id": "34a1b65f",
   "metadata": {},
   "outputs": [
    {
     "data": {
      "text/plain": [
       "(541725, 541725)"
      ]
     },
     "execution_count": 22,
     "metadata": {},
     "output_type": "execute_result"
    }
   ],
   "source": [
    "# 잘 나누어졌는지 확인\n",
    "len(Date), len(Time)"
   ]
  },
  {
   "cell_type": "code",
   "execution_count": 23,
   "id": "62414c39",
   "metadata": {},
   "outputs": [],
   "source": [
    "# Date, Time 파생변수 생성\n",
    "df[\"Date\"] = Date\n",
    "df[\"Time\"] = Time\n",
    "\n",
    "df['Date'] = pd.to_datetime(df['Date'])\n",
    "df['Time'] = pd.to_datetime(df['Time'], format='%H:%M:%S').dt.time"
   ]
  },
  {
   "cell_type": "code",
   "execution_count": 24,
   "id": "da585844",
   "metadata": {},
   "outputs": [],
   "source": [
    "# 기존 구매 날짜 컬럼 삭제\n",
    "df_pre = df.drop(columns=['InvoiceDate'])"
   ]
  },
  {
   "cell_type": "code",
   "execution_count": 25,
   "id": "4c4290bb",
   "metadata": {},
   "outputs": [
    {
     "data": {
      "text/html": [
       "<div>\n",
       "<style scoped>\n",
       "    .dataframe tbody tr th:only-of-type {\n",
       "        vertical-align: middle;\n",
       "    }\n",
       "\n",
       "    .dataframe tbody tr th {\n",
       "        vertical-align: top;\n",
       "    }\n",
       "\n",
       "    .dataframe thead th {\n",
       "        text-align: right;\n",
       "    }\n",
       "</style>\n",
       "<table border=\"1\" class=\"dataframe\">\n",
       "  <thead>\n",
       "    <tr style=\"text-align: right;\">\n",
       "      <th></th>\n",
       "      <th>InvoiceNo</th>\n",
       "      <th>StockCode</th>\n",
       "      <th>Description</th>\n",
       "      <th>Quantity</th>\n",
       "      <th>UnitPrice</th>\n",
       "      <th>CustomerID</th>\n",
       "      <th>Country</th>\n",
       "      <th>TotalPrice</th>\n",
       "      <th>Date</th>\n",
       "      <th>Time</th>\n",
       "    </tr>\n",
       "  </thead>\n",
       "  <tbody>\n",
       "    <tr>\n",
       "      <th>0</th>\n",
       "      <td>536365</td>\n",
       "      <td>85123A</td>\n",
       "      <td>WHITE HANGING HEART T-LIGHT HOLDER</td>\n",
       "      <td>6</td>\n",
       "      <td>2.55</td>\n",
       "      <td>17850.0</td>\n",
       "      <td>United Kingdom</td>\n",
       "      <td>15.30</td>\n",
       "      <td>2010-12-01</td>\n",
       "      <td>08:26:00</td>\n",
       "    </tr>\n",
       "    <tr>\n",
       "      <th>1</th>\n",
       "      <td>536365</td>\n",
       "      <td>71053</td>\n",
       "      <td>WHITE METAL LANTERN</td>\n",
       "      <td>6</td>\n",
       "      <td>3.39</td>\n",
       "      <td>17850.0</td>\n",
       "      <td>United Kingdom</td>\n",
       "      <td>20.34</td>\n",
       "      <td>2010-12-01</td>\n",
       "      <td>08:26:00</td>\n",
       "    </tr>\n",
       "    <tr>\n",
       "      <th>2</th>\n",
       "      <td>536365</td>\n",
       "      <td>84406B</td>\n",
       "      <td>CREAM CUPID HEARTS COAT HANGER</td>\n",
       "      <td>8</td>\n",
       "      <td>2.75</td>\n",
       "      <td>17850.0</td>\n",
       "      <td>United Kingdom</td>\n",
       "      <td>22.00</td>\n",
       "      <td>2010-12-01</td>\n",
       "      <td>08:26:00</td>\n",
       "    </tr>\n",
       "    <tr>\n",
       "      <th>3</th>\n",
       "      <td>536365</td>\n",
       "      <td>84029G</td>\n",
       "      <td>KNITTED UNION FLAG HOT WATER BOTTLE</td>\n",
       "      <td>6</td>\n",
       "      <td>3.39</td>\n",
       "      <td>17850.0</td>\n",
       "      <td>United Kingdom</td>\n",
       "      <td>20.34</td>\n",
       "      <td>2010-12-01</td>\n",
       "      <td>08:26:00</td>\n",
       "    </tr>\n",
       "    <tr>\n",
       "      <th>4</th>\n",
       "      <td>536365</td>\n",
       "      <td>84029E</td>\n",
       "      <td>RED WOOLLY HOTTIE WHITE HEART.</td>\n",
       "      <td>6</td>\n",
       "      <td>3.39</td>\n",
       "      <td>17850.0</td>\n",
       "      <td>United Kingdom</td>\n",
       "      <td>20.34</td>\n",
       "      <td>2010-12-01</td>\n",
       "      <td>08:26:00</td>\n",
       "    </tr>\n",
       "  </tbody>\n",
       "</table>\n",
       "</div>"
      ],
      "text/plain": [
       "  InvoiceNo StockCode                          Description  Quantity  \\\n",
       "0    536365    85123A   WHITE HANGING HEART T-LIGHT HOLDER         6   \n",
       "1    536365     71053                  WHITE METAL LANTERN         6   \n",
       "2    536365    84406B       CREAM CUPID HEARTS COAT HANGER         8   \n",
       "3    536365    84029G  KNITTED UNION FLAG HOT WATER BOTTLE         6   \n",
       "4    536365    84029E       RED WOOLLY HOTTIE WHITE HEART.         6   \n",
       "\n",
       "   UnitPrice  CustomerID         Country  TotalPrice       Date      Time  \n",
       "0       2.55     17850.0  United Kingdom       15.30 2010-12-01  08:26:00  \n",
       "1       3.39     17850.0  United Kingdom       20.34 2010-12-01  08:26:00  \n",
       "2       2.75     17850.0  United Kingdom       22.00 2010-12-01  08:26:00  \n",
       "3       3.39     17850.0  United Kingdom       20.34 2010-12-01  08:26:00  \n",
       "4       3.39     17850.0  United Kingdom       20.34 2010-12-01  08:26:00  "
      ]
     },
     "execution_count": 25,
     "metadata": {},
     "output_type": "execute_result"
    }
   ],
   "source": [
    "# 데이터 확인\n",
    "df_pre.head()"
   ]
  },
  {
   "cell_type": "code",
   "execution_count": 26,
   "id": "c9a1e116",
   "metadata": {},
   "outputs": [
    {
     "name": "stdout",
     "output_type": "stream",
     "text": [
      "<class 'pandas.core.frame.DataFrame'>\n",
      "Int64Index: 541725 entries, 0 to 541908\n",
      "Data columns (total 10 columns):\n",
      " #   Column       Non-Null Count   Dtype         \n",
      "---  ------       --------------   -----         \n",
      " 0   InvoiceNo    541725 non-null  object        \n",
      " 1   StockCode    541725 non-null  object        \n",
      " 2   Description  541725 non-null  object        \n",
      " 3   Quantity     541725 non-null  int64         \n",
      " 4   UnitPrice    541725 non-null  float64       \n",
      " 5   CustomerID   406803 non-null  float64       \n",
      " 6   Country      541725 non-null  object        \n",
      " 7   TotalPrice   541725 non-null  float64       \n",
      " 8   Date         541725 non-null  datetime64[ns]\n",
      " 9   Time         541725 non-null  object        \n",
      "dtypes: datetime64[ns](1), float64(3), int64(1), object(5)\n",
      "memory usage: 45.5+ MB\n"
     ]
    }
   ],
   "source": [
    "df_pre.info()"
   ]
  },
  {
   "cell_type": "markdown",
   "id": "6efddbf3",
   "metadata": {},
   "source": [
    "## 구매 취소건 삭제\n",
    "\n",
    "- 구매취소 건은 고객 구매주기에 혼동을 줄 수 있으므로 삭제"
   ]
  },
  {
   "cell_type": "code",
   "execution_count": 27,
   "id": "71fd0b21",
   "metadata": {},
   "outputs": [
    {
     "data": {
      "text/html": [
       "<div>\n",
       "<style scoped>\n",
       "    .dataframe tbody tr th:only-of-type {\n",
       "        vertical-align: middle;\n",
       "    }\n",
       "\n",
       "    .dataframe tbody tr th {\n",
       "        vertical-align: top;\n",
       "    }\n",
       "\n",
       "    .dataframe thead th {\n",
       "        text-align: right;\n",
       "    }\n",
       "</style>\n",
       "<table border=\"1\" class=\"dataframe\">\n",
       "  <thead>\n",
       "    <tr style=\"text-align: right;\">\n",
       "      <th></th>\n",
       "      <th>InvoiceNo</th>\n",
       "      <th>StockCode</th>\n",
       "      <th>Description</th>\n",
       "      <th>Quantity</th>\n",
       "      <th>UnitPrice</th>\n",
       "      <th>CustomerID</th>\n",
       "      <th>Country</th>\n",
       "      <th>TotalPrice</th>\n",
       "      <th>Date</th>\n",
       "      <th>Time</th>\n",
       "    </tr>\n",
       "  </thead>\n",
       "  <tbody>\n",
       "    <tr>\n",
       "      <th>141</th>\n",
       "      <td>C536379</td>\n",
       "      <td>D</td>\n",
       "      <td>Discount</td>\n",
       "      <td>-1</td>\n",
       "      <td>27.50</td>\n",
       "      <td>14527.0</td>\n",
       "      <td>United Kingdom</td>\n",
       "      <td>-27.50</td>\n",
       "      <td>2010-12-01</td>\n",
       "      <td>09:41:00</td>\n",
       "    </tr>\n",
       "    <tr>\n",
       "      <th>154</th>\n",
       "      <td>C536383</td>\n",
       "      <td>35004C</td>\n",
       "      <td>SET OF 3 COLOURED  FLYING DUCKS</td>\n",
       "      <td>-1</td>\n",
       "      <td>4.65</td>\n",
       "      <td>15311.0</td>\n",
       "      <td>United Kingdom</td>\n",
       "      <td>-4.65</td>\n",
       "      <td>2010-12-01</td>\n",
       "      <td>09:49:00</td>\n",
       "    </tr>\n",
       "    <tr>\n",
       "      <th>235</th>\n",
       "      <td>C536391</td>\n",
       "      <td>22556</td>\n",
       "      <td>PLASTERS IN TIN CIRCUS PARADE</td>\n",
       "      <td>-12</td>\n",
       "      <td>1.65</td>\n",
       "      <td>17548.0</td>\n",
       "      <td>United Kingdom</td>\n",
       "      <td>-19.80</td>\n",
       "      <td>2010-12-01</td>\n",
       "      <td>10:24:00</td>\n",
       "    </tr>\n",
       "    <tr>\n",
       "      <th>236</th>\n",
       "      <td>C536391</td>\n",
       "      <td>21984</td>\n",
       "      <td>PACK OF 12 PINK PAISLEY TISSUES</td>\n",
       "      <td>-24</td>\n",
       "      <td>0.29</td>\n",
       "      <td>17548.0</td>\n",
       "      <td>United Kingdom</td>\n",
       "      <td>-6.96</td>\n",
       "      <td>2010-12-01</td>\n",
       "      <td>10:24:00</td>\n",
       "    </tr>\n",
       "    <tr>\n",
       "      <th>237</th>\n",
       "      <td>C536391</td>\n",
       "      <td>21983</td>\n",
       "      <td>PACK OF 12 BLUE PAISLEY TISSUES</td>\n",
       "      <td>-24</td>\n",
       "      <td>0.29</td>\n",
       "      <td>17548.0</td>\n",
       "      <td>United Kingdom</td>\n",
       "      <td>-6.96</td>\n",
       "      <td>2010-12-01</td>\n",
       "      <td>10:24:00</td>\n",
       "    </tr>\n",
       "  </tbody>\n",
       "</table>\n",
       "</div>"
      ],
      "text/plain": [
       "    InvoiceNo StockCode                       Description  Quantity  \\\n",
       "141   C536379         D                          Discount        -1   \n",
       "154   C536383    35004C   SET OF 3 COLOURED  FLYING DUCKS        -1   \n",
       "235   C536391     22556    PLASTERS IN TIN CIRCUS PARADE        -12   \n",
       "236   C536391     21984  PACK OF 12 PINK PAISLEY TISSUES        -24   \n",
       "237   C536391     21983  PACK OF 12 BLUE PAISLEY TISSUES        -24   \n",
       "\n",
       "     UnitPrice  CustomerID         Country  TotalPrice       Date      Time  \n",
       "141      27.50     14527.0  United Kingdom      -27.50 2010-12-01  09:41:00  \n",
       "154       4.65     15311.0  United Kingdom       -4.65 2010-12-01  09:49:00  \n",
       "235       1.65     17548.0  United Kingdom      -19.80 2010-12-01  10:24:00  \n",
       "236       0.29     17548.0  United Kingdom       -6.96 2010-12-01  10:24:00  \n",
       "237       0.29     17548.0  United Kingdom       -6.96 2010-12-01  10:24:00  "
      ]
     },
     "execution_count": 27,
     "metadata": {},
     "output_type": "execute_result"
    }
   ],
   "source": [
    "# 구매 취소건 확인\n",
    "df_pre[df_pre[\"TotalPrice\"] <= 0].head()"
   ]
  },
  {
   "cell_type": "markdown",
   "id": "17e8e99b",
   "metadata": {},
   "source": [
    "- 주문 취소건은 InvoiceNo 컬럼이 C 로 시작하거나 Quantity 와 UnitPrice 컬럼이 0 보다 작다는 특징을 가지고 있음을 확인"
   ]
  },
  {
   "cell_type": "code",
   "execution_count": 28,
   "id": "d77d8ebc",
   "metadata": {},
   "outputs": [],
   "source": [
    "# 구매취소건 행 필터링\n",
    "cancled_filter = (\n",
    "    df_pre['InvoiceNo'].str.startswith('C') |\n",
    "    (df_pre['Quantity'] <= 0) |\n",
    "    (df_pre['UnitPrice'] <= 0)\n",
    ")\n",
    "\n",
    "# 조건을 만족하는 행들을 제거\n",
    "df_pre = df_pre[~cancled_filter]"
   ]
  },
  {
   "cell_type": "code",
   "execution_count": 29,
   "id": "99aa0a3f",
   "metadata": {},
   "outputs": [
    {
     "data": {
      "text/html": [
       "<div>\n",
       "<style scoped>\n",
       "    .dataframe tbody tr th:only-of-type {\n",
       "        vertical-align: middle;\n",
       "    }\n",
       "\n",
       "    .dataframe tbody tr th {\n",
       "        vertical-align: top;\n",
       "    }\n",
       "\n",
       "    .dataframe thead th {\n",
       "        text-align: right;\n",
       "    }\n",
       "</style>\n",
       "<table border=\"1\" class=\"dataframe\">\n",
       "  <thead>\n",
       "    <tr style=\"text-align: right;\">\n",
       "      <th></th>\n",
       "      <th>InvoiceNo</th>\n",
       "      <th>StockCode</th>\n",
       "      <th>Description</th>\n",
       "      <th>Quantity</th>\n",
       "      <th>UnitPrice</th>\n",
       "      <th>CustomerID</th>\n",
       "      <th>Country</th>\n",
       "      <th>TotalPrice</th>\n",
       "      <th>Date</th>\n",
       "      <th>Time</th>\n",
       "    </tr>\n",
       "  </thead>\n",
       "  <tbody>\n",
       "  </tbody>\n",
       "</table>\n",
       "</div>"
      ],
      "text/plain": [
       "Empty DataFrame\n",
       "Columns: [InvoiceNo, StockCode, Description, Quantity, UnitPrice, CustomerID, Country, TotalPrice, Date, Time]\n",
       "Index: []"
      ]
     },
     "execution_count": 29,
     "metadata": {},
     "output_type": "execute_result"
    }
   ],
   "source": [
    "# 잘 삭제 되었는지 확인\n",
    "df_pre[df_pre[\"TotalPrice\"] <= 0].head()"
   ]
  },
  {
   "cell_type": "markdown",
   "id": "751e679c",
   "metadata": {},
   "source": [
    "## 상품 품목 카테고리화 \n",
    "\n",
    "- 현재 데이터의 상품 종류는 3775 개 임을 확인\n",
    "    - 기존 정보로는 고객마다 구매한 상품 차별성을 확인 하는 것이 어렵다고 판단\n",
    "    - 상품 품목 카테고리화 진행\n",
    "        - scikit-learn의 TF-IDF로 카테고리화 진행\n",
    "        - 파레토 법칙에 따라 카테고리 개수를 정함"
   ]
  },
  {
   "cell_type": "markdown",
   "id": "aff9cc31",
   "metadata": {},
   "source": [
    "#### TF-IDF\n",
    "\n",
    "- TF-IDF : 텍스트 데이터를 벡터화하여 각 단어의 중요도를 문서 내에서 평가하는 방식\n",
    "\n",
    "<img src = './img/tfidf.jpg'>"
   ]
  },
  {
   "cell_type": "markdown",
   "id": "9a6f4977",
   "metadata": {},
   "source": [
    "#### 파레토 법칙\n",
    "\n",
    "- 파레토 법칙 : 상위 20%가 전체 비중의 80%를 해낸다는 법칙"
   ]
  },
  {
   "cell_type": "code",
   "execution_count": 30,
   "id": "34095f9b",
   "metadata": {},
   "outputs": [
    {
     "name": "stdout",
     "output_type": "stream",
     "text": [
      "3775\n"
     ]
    }
   ],
   "source": [
    "Descroption_num = df_pre[\"Description\"].nunique()\n",
    "print(Descroption_num)"
   ]
  },
  {
   "cell_type": "code",
   "execution_count": 31,
   "id": "0551c473",
   "metadata": {},
   "outputs": [
    {
     "data": {
      "text/plain": [
       "755"
      ]
     },
     "execution_count": 31,
     "metadata": {},
     "output_type": "execute_result"
    }
   ],
   "source": [
    "# 파레토 법칙\n",
    "# 전체 데이터 20%\n",
    "round(Descroption_num*0.2)"
   ]
  },
  {
   "cell_type": "markdown",
   "id": "9f40e914",
   "metadata": {},
   "source": [
    "#### 파레토 법칙 검증 "
   ]
  },
  {
   "cell_type": "code",
   "execution_count": 32,
   "id": "f89c1ed7",
   "metadata": {},
   "outputs": [
    {
     "name": "stderr",
     "output_type": "stream",
     "text": [
      "<ipython-input-32-31bf7ec0dc27>:2: FutureWarning: The default value of numeric_only in DataFrameGroupBy.sum is deprecated. In a future version, numeric_only will default to False. Either specify numeric_only or select only columns which should be valid for the function.\n",
      "  top20p = df_pre.groupby(df_pre[\"Description\"]).sum()\n"
     ]
    },
    {
     "data": {
      "text/plain": [
       "8407005.92"
      ]
     },
     "execution_count": 32,
     "metadata": {},
     "output_type": "execute_result"
    }
   ],
   "source": [
    "# 상품명 기준으로 그룹화\n",
    "top20p = df_pre.groupby(df_pre[\"Description\"]).sum()\n",
    "\n",
    "# TotalPrice 기준으로 내림차순 정렬\n",
    "top20p = top20p.sort_values(by = 'TotalPrice', ascending=False)\n",
    "\n",
    "# TotalPrice 상위 755개의 항목 선택\n",
    "top_20p = top20p.head(755)\n",
    "\n",
    "# 상위 755개의 'TotalPrice' 총합 계산\n",
    "total_20p = top_20p['TotalPrice'].sum()\n",
    "total_20p"
   ]
  },
  {
   "cell_type": "code",
   "execution_count": 33,
   "id": "30db8fe5",
   "metadata": {},
   "outputs": [
    {
     "name": "stdout",
     "output_type": "stream",
     "text": [
      "전제 대비 상위 20% 품목의 매출액 : 79.0%\n"
     ]
    }
   ],
   "source": [
    "# 취소건을 제외한 매출 총액\n",
    "Total =round(df_pre['TotalPrice'].sum())\n",
    "\n",
    "# 상위 20% 품목의 수익률\n",
    "print(f\"전제 대비 상위 20% 품목의 매출액 : {round(total_20p/Total, 2)*100}%\")"
   ]
  },
  {
   "cell_type": "markdown",
   "id": "a6869d69",
   "metadata": {},
   "source": [
    "- 매출액 상위 20% 항목이 전체 매출액의 79% 를 차지 하고 있음\n",
    "- 파레토 법칙 성립"
   ]
  },
  {
   "cell_type": "markdown",
   "id": "86c6cd31",
   "metadata": {},
   "source": [
    "##  상품명 카테고리화 진행"
   ]
  },
  {
   "cell_type": "code",
   "execution_count": 34,
   "id": "d5ab8e43",
   "metadata": {},
   "outputs": [
    {
     "name": "stdout",
     "output_type": "stream",
     "text": [
      "['bag', 'set', 'red', 'retrospot', 'heart', 'vintage', 'design', 'pink', 'jumbo', 'christmas', 'lunch', 'box', 'cake', 'metal', 'white', 'blue', 'light', 'hanging', 'holder', 'sign', 'pack', 'polkadot', 'paper', 'card', 'decoration', 'small', 'spaceboy', 'wooden', 'cases', 'tea', 'bottle', 'glass', '12', 'bunting', 'hot', 'paisley', 'large', 'water', 'tin', 'regency', 'pantry', 'doormat', 'wicker', 'dolly', 'party', 'green', 'ceramic', 'rose', 'charlotte', 'love', 'girl', 'ivory', 'home', 'mini', 'mug', 'wrap', 'woodland', 'black', 'cream', 'bowl', 'clock', 'childrens', 'feltcraft', 'strawberry', 'tins', 'fairy', 'assorted', 'kit', 'star', 'doily', 'suki', 'birthday', 'garden', 'skull', 'frame', '60', 'colour', 'antique', 'cutlery', 'silver', 'bird', 'zinc', 'wall', 'drawer', '50', 'hearts', 'wood', 'lights', 'cup', 'gift', 'hand', '20', 'storage', 'union', 'chocolate', 'london', 'alarm', 'jam', 'apples', 'tree', 'ribbons', 'jar', 'bakelike', 'candles', 'alphabet', 'warmer', 'flower', 'french', 'knob', 'pencils', 'plate', 'candle', 'egg', 'trinket', 'butterfly', 'sweetheart', 'skulls', 'plasters', 'napkins', 'leaf', 'traditional', 'tissues', 'travel', 'baking', '72', 'spot', 'gingham', 'cover', 'tier', 'kitchen', 'tube', 'scandinavian', 'cushion', 'chain', 'hook', 'spotty', 'enamel', 'shopper', 'calm', 'jack', 'slate', 'apron', 'picnic', 'craft', 'saucer', 'round', 'natural', 'cookie', 'babushka', 'garland', 'coffee', 'dog', '36', 'photo', 'painted', 'english', '10', 'stand', 'edwardian', 'rabbit', 'wallet', 'postage', 'teacup', 'cakestand', 'cards', 'sweet', 'door', 'sewing', 'felt', 'pen', 'boxes', 'magnets', 'victorian', 'magic', 'finish', 'recipe', 'notebook', 'reel', 'ribbon', 'parasol', 'doilies', 'making', 'diner', 'circus', 'parade', 'cat', 'bell', 'lantern', 'lola', 'night', 'mirror', 'chalkboard', 'pot', 'picture', 'cutters', 'art', 'roses', 'happy', 'popcorn', 'rustic', 'key', 'jug', 'owl', 'yellow', 'scales', 'apple', 'milk', 'easter', 'doll', 'bathroom', 'charlie', 'sugar', 'block', 'cabinet', 'table', 'book', 'classic', 'biscuit', 'decorations', 'herb', 'shoulder', 'food', 'pears', 'toy', 'dinosaur', 'snack', 'umbrella', 'basket', 'retro', 'animals', 'beaker', 'rack', 'hanger', 'bells', 'roll', 'stickers', 'towels', 'piece', 'harmonica', 'pad', 'doorstop', 'stripe', 'marker', 'money', 'floral', 'baby', 'time', 'tray', 'kneeling', 'tissue', 'treasure', 'empire', 'jigsaw', 'lid', 'container', 'flag', 'sketchbook', 'tidy', 'measuring', 'bunny', 'led', 'building', 'word', 'decorative', 'board', 'childs', 'ornament', 'pan', 'stationery', 'lace', 'tape', 'ring', 'single', 'gardeners', 'watering', 'wreath', 'purse', 'person', 'lovebird', 'toadstool', 'dinner', 'bank', 'cars', 'poppy', 'shed', 'charm', 'tonic', 'balloons', 'font', 'tags', 'purple', 'chick', 'kids', 'playhouse', 'toilet', 'acrylic', 'stars', 'coat', 'cakes', 'teatime', 'bin', 'owls', 'medium', 'playing', 'friends', 'game', 'daisy', 'ant', 'jars', 'peg', 'fob', 'baroque', 'ball', 'dish', 'style', 'scented', 'moulds', 'frying', 'dominoes', 'oven', 'drawing', '24', 'filigree', 'printed', 'glitter', 'gin', 'park', 'house', 'mat', 'airline', 'cotton', 'bread', 'shape', 'folkart', 'wire', 'botanical', 'billboard', 'tall', 'colouring', 'jelly', 'snap', 'angel', 'recycled', 'giant', 'folding', 'princess', 'flowers', 'orange', 'cosy', 'grey', 'breakfast', '3d', 'carry', 'crystal', 'cornice', 'plates', 'welcome', 'bracelet', 'brush', 'greeting', 'washing', 'pegs', 'sticker', 'knack', 'knick', 'stocking', 'parisienne', 'teapot', 'glove', 'ruler', 'candleholder', 'gold', 'honeycomb', 'recycling', 'mint', 'pencil', 'sticks', 'writing', 'pottering', 'funky', 'scottie', 'feather', 'gumball', 'chest', 'children', 'toys', 'acapulco', 'plant', 'trellis', 'stamp', 'spoons', 'cups', 'school', 'tile', 'fan', 'chalk', 'cutter', 'calendar', 'magnetic', 'bowls', 'diet', 'letter', 'brown', 'memo', 'cottage', 'spice', 'jingle', 'horse', 'skittles', 'crackers', 'diamante', 'square', 'bath', 'chilli', 'village', 'size', 'towel', 'fancy', 'dotcom', '11', 'pc', 'shopping', 'bucket', 'list', 'record', 'collage', 'beaded', 'gloves', 'luggage', 'come', 'lavender', 'baths', 'incense', 'elephant', 'new', 'tag', 'letters', 'backpack', 'rex', 'cash', 'ice', 'wine', 'jewellery', 'rocking', 'flannel', 'napkin', 'loaf', 'place', 'sleigh', 'coloured', 'kings', 'choice', 'triple', 'man', 'shaped', 'mould', 'doughnut', 'singing', 'flock', 'gloss', 'lip', 'holiday', 'morris', 'knitting', 'cook', 'poorly', 'birdhouse', 'multicolour', 'matches', 'fruit', 'stencil', 'apothecary', 'gymkhana', 'reindeer', 'cocktail', 'pocket', 'jewelled', 'candy', 'dove', 'silk', 'grow', 'soft', 'heads', 'tails', 'books', 'bundle', 'stick', 'paint', 'clothes', 'england', 'knitted', 'ladies', 'rotating', 'tv', 'thermometer', 'raffia', 'charms', 'images', 'lipstick', 'vanilla', 'toadstools', 'shelf', 'aid', 'decoupage', 'rain', 'sympathy', 'tote', 'chicken', 'fabric', 'swirly', 'biscuits', 'cherry', 'santa', 'pannetone', 'nancy', 'deluxe', 'placemats', 'of4', 'passport', 'bead', 'asstd', 'chopsticks', 'homemade', 'soap', 'family', 'blossom', 'spring', 'sponge', 'strongman', 'calculator', 'buffalo', 'fluted', 'earrings', 'cats', 'glaze', 'marbles', 'swallows', 'gingerbread', 'seaside', 'confusing', 'hen', 'string', 'stripey', 'number', 'stripes', 'crackle', 'folk', 'fork', 'fruits', 'bingo', 'area', 'little', 'toast', 'jazz', 'spoon', 'clear', 'office', 'psychedelic', 'straws', 'invites', 'blocks', 'bicycle', 'bunnies', 'planet', 'save', 'parasols', 'pudding', 'mushroom', 'scotty', 'holly', 'organiser', 'windmill', 'potting', 'coasters', 'hairband', 'leave', 'jet', 'way', 'fawn', 'girls', 'erasers', 'make', 'boxed', 'cupcake', 'frutti', 'tutti', 'pin', 'necklace', 'scent', 'marshmallows', 'cacti', 'fun', 'fridge', 'embroidered', 'badges', 'manual', 'pizza', 'multi', 'reds', 'caravan', 'balloon', 'rectangle', 'nesting', 'cafe', 'soldier', 'bling', 'modern', 'hldr', 'setting', 'world', 'washbag', 'rope', 'disco', 'tops', 'spinning', 'advent', 'mice', 'laundry', 'beware', 'lovebirds', 'chateau', 'soldiers', 'robot', 'gentlemen', 'coaster', 'enchanted', 'mobile', 'crayons', 'day', 'chicks', 'lamp', 'exercise', 'mix', 'ladder', 'notebooks', 'parcel', 'winkie', 'willie', 'washroom', 'mirrored', 'butter', 'basil', 'turquoise', 'pens', 'big', 'colours', 'sack', 'keepsake', 'bottles', 'trim', 'drop', 'bauble', 'sock', 'engraved', 'crochet', 'musical', 'postcard', 'oval', 'cube', 'a7', 'boys', 'patrolled', 'embossed', '16', 'bedroom', 'choc', 'wick', 'snowmen', 'hottie', 'woolly', 'dinosaurs', 'ladders', 'snakes', 'pinks', 'portrait', 'skipping', 'magazine', 'spade', 'open', 'rounders', 'birdy', 'carriage', 'ticket', 'leaves', 'cut', 'thank', 'occupied', 'vacant', 'romantic', 'clips', 'designs', 'sheet', 'poppies', 'dairy', 'maid', 'emily', 'rosie', 'angels', 'grand', 'sundae', 'revolver', 'clay', 'modelling', 'closed', 'spots', 'pirate', 'gliders', 'war', 'citronella', 'piggy', 'handbag', 'origami', 'catch', 'patches', 'petit', 'molly', 'strawbery', 'secret', 'ladle', 'paris', 'journal', 'cigar', 'swallow', 'bon', 'button', 'aged', '78', 'tokyo', 'brocante', '15c', 'bags', 'lounge', 'crate', 'curio', 'cowboys', 'album', 'foil', 'candlestick', 'rocket', 'cracker', 'envelopes', 'gazebo', 'dec', 'croquet', 'hair', 'refectory', 'pearl', 'jardin', 'baubles', 'livingroom', 'pearls', 'settings', 'porcelain', 'crossbones', 'birdcage']\n"
     ]
    }
   ],
   "source": [
    "# TF-IDF 모델 생성\n",
    "N = 755  # 상위 N개의 키워드 추출\n",
    "vectorizer = TfidfVectorizer(stop_words='english')\n",
    "tfidf_matrix = vectorizer.fit_transform(df_pre['Description'])\n",
    "\n",
    "# 각 단어에 대한 TF-IDF 값 추출\n",
    "tfidf_scores = tfidf_matrix.sum(axis=0)\n",
    "\n",
    "# TF-IDF 값이 높은 단어 순으로 정렬\n",
    "df_tfidf = pd.DataFrame(tfidf_scores, columns=vectorizer.get_feature_names_out()).transpose()\n",
    "df_tfidf.columns = ['tfidf_score']\n",
    "df_tfidf = df_tfidf.sort_values(by='tfidf_score', ascending=False)\n",
    "\n",
    "# 상위 N개의 키워드 추출\n",
    "top_keywords = df_tfidf.head(N).index.tolist()\n",
    "print(top_keywords)\n",
    "\n",
    "# 'category' 열 생성 및 할당\n",
    "df_pre['Category'] = df_pre['Description'].apply(lambda x: next((keyword for keyword in top_keywords if keyword in x.lower()), None))\n"
   ]
  },
  {
   "cell_type": "code",
   "execution_count": 35,
   "id": "5264df70",
   "metadata": {},
   "outputs": [
    {
     "data": {
      "text/html": [
       "<div>\n",
       "<style scoped>\n",
       "    .dataframe tbody tr th:only-of-type {\n",
       "        vertical-align: middle;\n",
       "    }\n",
       "\n",
       "    .dataframe tbody tr th {\n",
       "        vertical-align: top;\n",
       "    }\n",
       "\n",
       "    .dataframe thead th {\n",
       "        text-align: right;\n",
       "    }\n",
       "</style>\n",
       "<table border=\"1\" class=\"dataframe\">\n",
       "  <thead>\n",
       "    <tr style=\"text-align: right;\">\n",
       "      <th></th>\n",
       "      <th>InvoiceNo</th>\n",
       "      <th>StockCode</th>\n",
       "      <th>Description</th>\n",
       "      <th>Quantity</th>\n",
       "      <th>UnitPrice</th>\n",
       "      <th>CustomerID</th>\n",
       "      <th>Country</th>\n",
       "      <th>TotalPrice</th>\n",
       "      <th>Date</th>\n",
       "      <th>Time</th>\n",
       "      <th>Category</th>\n",
       "    </tr>\n",
       "  </thead>\n",
       "  <tbody>\n",
       "    <tr>\n",
       "      <th>0</th>\n",
       "      <td>536365</td>\n",
       "      <td>85123A</td>\n",
       "      <td>WHITE HANGING HEART T-LIGHT HOLDER</td>\n",
       "      <td>6</td>\n",
       "      <td>2.55</td>\n",
       "      <td>17850.0</td>\n",
       "      <td>United Kingdom</td>\n",
       "      <td>15.30</td>\n",
       "      <td>2010-12-01</td>\n",
       "      <td>08:26:00</td>\n",
       "      <td>heart</td>\n",
       "    </tr>\n",
       "    <tr>\n",
       "      <th>1</th>\n",
       "      <td>536365</td>\n",
       "      <td>71053</td>\n",
       "      <td>WHITE METAL LANTERN</td>\n",
       "      <td>6</td>\n",
       "      <td>3.39</td>\n",
       "      <td>17850.0</td>\n",
       "      <td>United Kingdom</td>\n",
       "      <td>20.34</td>\n",
       "      <td>2010-12-01</td>\n",
       "      <td>08:26:00</td>\n",
       "      <td>metal</td>\n",
       "    </tr>\n",
       "    <tr>\n",
       "      <th>2</th>\n",
       "      <td>536365</td>\n",
       "      <td>84406B</td>\n",
       "      <td>CREAM CUPID HEARTS COAT HANGER</td>\n",
       "      <td>8</td>\n",
       "      <td>2.75</td>\n",
       "      <td>17850.0</td>\n",
       "      <td>United Kingdom</td>\n",
       "      <td>22.00</td>\n",
       "      <td>2010-12-01</td>\n",
       "      <td>08:26:00</td>\n",
       "      <td>heart</td>\n",
       "    </tr>\n",
       "    <tr>\n",
       "      <th>3</th>\n",
       "      <td>536365</td>\n",
       "      <td>84029G</td>\n",
       "      <td>KNITTED UNION FLAG HOT WATER BOTTLE</td>\n",
       "      <td>6</td>\n",
       "      <td>3.39</td>\n",
       "      <td>17850.0</td>\n",
       "      <td>United Kingdom</td>\n",
       "      <td>20.34</td>\n",
       "      <td>2010-12-01</td>\n",
       "      <td>08:26:00</td>\n",
       "      <td>bottle</td>\n",
       "    </tr>\n",
       "    <tr>\n",
       "      <th>4</th>\n",
       "      <td>536365</td>\n",
       "      <td>84029E</td>\n",
       "      <td>RED WOOLLY HOTTIE WHITE HEART.</td>\n",
       "      <td>6</td>\n",
       "      <td>3.39</td>\n",
       "      <td>17850.0</td>\n",
       "      <td>United Kingdom</td>\n",
       "      <td>20.34</td>\n",
       "      <td>2010-12-01</td>\n",
       "      <td>08:26:00</td>\n",
       "      <td>red</td>\n",
       "    </tr>\n",
       "  </tbody>\n",
       "</table>\n",
       "</div>"
      ],
      "text/plain": [
       "  InvoiceNo StockCode                          Description  Quantity  \\\n",
       "0    536365    85123A   WHITE HANGING HEART T-LIGHT HOLDER         6   \n",
       "1    536365     71053                  WHITE METAL LANTERN         6   \n",
       "2    536365    84406B       CREAM CUPID HEARTS COAT HANGER         8   \n",
       "3    536365    84029G  KNITTED UNION FLAG HOT WATER BOTTLE         6   \n",
       "4    536365    84029E       RED WOOLLY HOTTIE WHITE HEART.         6   \n",
       "\n",
       "   UnitPrice  CustomerID         Country  TotalPrice       Date      Time  \\\n",
       "0       2.55     17850.0  United Kingdom       15.30 2010-12-01  08:26:00   \n",
       "1       3.39     17850.0  United Kingdom       20.34 2010-12-01  08:26:00   \n",
       "2       2.75     17850.0  United Kingdom       22.00 2010-12-01  08:26:00   \n",
       "3       3.39     17850.0  United Kingdom       20.34 2010-12-01  08:26:00   \n",
       "4       3.39     17850.0  United Kingdom       20.34 2010-12-01  08:26:00   \n",
       "\n",
       "  Category  \n",
       "0    heart  \n",
       "1    metal  \n",
       "2    heart  \n",
       "3   bottle  \n",
       "4      red  "
      ]
     },
     "execution_count": 35,
     "metadata": {},
     "output_type": "execute_result"
    }
   ],
   "source": [
    "df_pre.head()"
   ]
  },
  {
   "cell_type": "code",
   "execution_count": 36,
   "id": "96b9b60d",
   "metadata": {},
   "outputs": [
    {
     "data": {
      "text/plain": [
       "InvoiceNo           0\n",
       "StockCode           0\n",
       "Description         0\n",
       "Quantity            0\n",
       "UnitPrice           0\n",
       "CustomerID     132216\n",
       "Country             0\n",
       "TotalPrice          0\n",
       "Date                0\n",
       "Time                0\n",
       "Category          270\n",
       "dtype: int64"
      ]
     },
     "execution_count": 36,
     "metadata": {},
     "output_type": "execute_result"
    }
   ],
   "source": [
    "df_pre.isna().sum()"
   ]
  },
  {
   "cell_type": "markdown",
   "id": "6b8ee5e8",
   "metadata": {},
   "source": [
    "- Category 컬럼에 270 개의 결측치 확인"
   ]
  },
  {
   "cell_type": "markdown",
   "id": "f12929a5",
   "metadata": {},
   "source": [
    "### 상품 카테고리 Null 인 데이터 확인"
   ]
  },
  {
   "cell_type": "code",
   "execution_count": 37,
   "id": "c3298e36",
   "metadata": {},
   "outputs": [
    {
     "data": {
      "text/html": [
       "<div>\n",
       "<style scoped>\n",
       "    .dataframe tbody tr th:only-of-type {\n",
       "        vertical-align: middle;\n",
       "    }\n",
       "\n",
       "    .dataframe tbody tr th {\n",
       "        vertical-align: top;\n",
       "    }\n",
       "\n",
       "    .dataframe thead th {\n",
       "        text-align: right;\n",
       "    }\n",
       "</style>\n",
       "<table border=\"1\" class=\"dataframe\">\n",
       "  <thead>\n",
       "    <tr style=\"text-align: right;\">\n",
       "      <th></th>\n",
       "      <th>InvoiceNo</th>\n",
       "      <th>StockCode</th>\n",
       "      <th>Description</th>\n",
       "      <th>Quantity</th>\n",
       "      <th>UnitPrice</th>\n",
       "      <th>CustomerID</th>\n",
       "      <th>Country</th>\n",
       "      <th>TotalPrice</th>\n",
       "      <th>Date</th>\n",
       "      <th>Time</th>\n",
       "      <th>Category</th>\n",
       "    </tr>\n",
       "  </thead>\n",
       "  <tbody>\n",
       "    <tr>\n",
       "      <th>4592</th>\n",
       "      <td>536796</td>\n",
       "      <td>21025</td>\n",
       "      <td>SPACE FROG</td>\n",
       "      <td>1</td>\n",
       "      <td>1.25</td>\n",
       "      <td>15574.0</td>\n",
       "      <td>United Kingdom</td>\n",
       "      <td>1.25</td>\n",
       "      <td>2010-12-02</td>\n",
       "      <td>15:46:00</td>\n",
       "      <td>None</td>\n",
       "    </tr>\n",
       "    <tr>\n",
       "      <th>6213</th>\n",
       "      <td>536876</td>\n",
       "      <td>21025</td>\n",
       "      <td>SPACE FROG</td>\n",
       "      <td>2</td>\n",
       "      <td>2.51</td>\n",
       "      <td>NaN</td>\n",
       "      <td>United Kingdom</td>\n",
       "      <td>5.02</td>\n",
       "      <td>2010-12-03</td>\n",
       "      <td>11:36:00</td>\n",
       "      <td>None</td>\n",
       "    </tr>\n",
       "    <tr>\n",
       "      <th>8591</th>\n",
       "      <td>537140</td>\n",
       "      <td>62018</td>\n",
       "      <td>SOMBRERO</td>\n",
       "      <td>1</td>\n",
       "      <td>1.95</td>\n",
       "      <td>12748.0</td>\n",
       "      <td>United Kingdom</td>\n",
       "      <td>1.95</td>\n",
       "      <td>2010-12-05</td>\n",
       "      <td>12:53:00</td>\n",
       "      <td>None</td>\n",
       "    </tr>\n",
       "    <tr>\n",
       "      <th>8811</th>\n",
       "      <td>537153</td>\n",
       "      <td>21025</td>\n",
       "      <td>SPACE FROG</td>\n",
       "      <td>10</td>\n",
       "      <td>1.25</td>\n",
       "      <td>16718.0</td>\n",
       "      <td>United Kingdom</td>\n",
       "      <td>12.50</td>\n",
       "      <td>2010-12-05</td>\n",
       "      <td>13:03:00</td>\n",
       "      <td>None</td>\n",
       "    </tr>\n",
       "    <tr>\n",
       "      <th>8900</th>\n",
       "      <td>537155</td>\n",
       "      <td>62018</td>\n",
       "      <td>SOMBRERO</td>\n",
       "      <td>1</td>\n",
       "      <td>1.95</td>\n",
       "      <td>12748.0</td>\n",
       "      <td>United Kingdom</td>\n",
       "      <td>1.95</td>\n",
       "      <td>2010-12-05</td>\n",
       "      <td>13:05:00</td>\n",
       "      <td>None</td>\n",
       "    </tr>\n",
       "    <tr>\n",
       "      <th>...</th>\n",
       "      <td>...</td>\n",
       "      <td>...</td>\n",
       "      <td>...</td>\n",
       "      <td>...</td>\n",
       "      <td>...</td>\n",
       "      <td>...</td>\n",
       "      <td>...</td>\n",
       "      <td>...</td>\n",
       "      <td>...</td>\n",
       "      <td>...</td>\n",
       "      <td>...</td>\n",
       "    </tr>\n",
       "    <tr>\n",
       "      <th>526230</th>\n",
       "      <td>580656</td>\n",
       "      <td>84356</td>\n",
       "      <td>POMPOM CURTAIN</td>\n",
       "      <td>1</td>\n",
       "      <td>1.95</td>\n",
       "      <td>15621.0</td>\n",
       "      <td>United Kingdom</td>\n",
       "      <td>1.95</td>\n",
       "      <td>2011-12-05</td>\n",
       "      <td>13:40:00</td>\n",
       "      <td>None</td>\n",
       "    </tr>\n",
       "    <tr>\n",
       "      <th>530415</th>\n",
       "      <td>580865</td>\n",
       "      <td>84199</td>\n",
       "      <td>GLOW IN DARK DOLPHINS</td>\n",
       "      <td>2</td>\n",
       "      <td>0.21</td>\n",
       "      <td>17914.0</td>\n",
       "      <td>United Kingdom</td>\n",
       "      <td>0.42</td>\n",
       "      <td>2011-12-06</td>\n",
       "      <td>11:58:00</td>\n",
       "      <td>None</td>\n",
       "    </tr>\n",
       "    <tr>\n",
       "      <th>532144</th>\n",
       "      <td>580983</td>\n",
       "      <td>21025</td>\n",
       "      <td>SPACE FROG</td>\n",
       "      <td>1</td>\n",
       "      <td>2.46</td>\n",
       "      <td>NaN</td>\n",
       "      <td>United Kingdom</td>\n",
       "      <td>2.46</td>\n",
       "      <td>2011-12-06</td>\n",
       "      <td>16:26:00</td>\n",
       "      <td>None</td>\n",
       "    </tr>\n",
       "    <tr>\n",
       "      <th>532680</th>\n",
       "      <td>580985</td>\n",
       "      <td>62018</td>\n",
       "      <td>SOMBRERO</td>\n",
       "      <td>6</td>\n",
       "      <td>1.95</td>\n",
       "      <td>17389.0</td>\n",
       "      <td>United Kingdom</td>\n",
       "      <td>11.70</td>\n",
       "      <td>2011-12-06</td>\n",
       "      <td>16:33:00</td>\n",
       "      <td>None</td>\n",
       "    </tr>\n",
       "    <tr>\n",
       "      <th>541564</th>\n",
       "      <td>581501</td>\n",
       "      <td>84356</td>\n",
       "      <td>POMPOM CURTAIN</td>\n",
       "      <td>12</td>\n",
       "      <td>1.95</td>\n",
       "      <td>12985.0</td>\n",
       "      <td>United Kingdom</td>\n",
       "      <td>23.40</td>\n",
       "      <td>2011-12-09</td>\n",
       "      <td>10:46:00</td>\n",
       "      <td>None</td>\n",
       "    </tr>\n",
       "  </tbody>\n",
       "</table>\n",
       "<p>270 rows × 11 columns</p>\n",
       "</div>"
      ],
      "text/plain": [
       "       InvoiceNo StockCode            Description  Quantity  UnitPrice  \\\n",
       "4592      536796     21025             SPACE FROG         1       1.25   \n",
       "6213      536876     21025             SPACE FROG         2       2.51   \n",
       "8591      537140     62018              SOMBRERO          1       1.95   \n",
       "8811      537153     21025             SPACE FROG        10       1.25   \n",
       "8900      537155     62018              SOMBRERO          1       1.95   \n",
       "...          ...       ...                    ...       ...        ...   \n",
       "526230    580656     84356         POMPOM CURTAIN         1       1.95   \n",
       "530415    580865     84199  GLOW IN DARK DOLPHINS         2       0.21   \n",
       "532144    580983     21025             SPACE FROG         1       2.46   \n",
       "532680    580985     62018              SOMBRERO          6       1.95   \n",
       "541564    581501     84356         POMPOM CURTAIN        12       1.95   \n",
       "\n",
       "        CustomerID         Country  TotalPrice       Date      Time Category  \n",
       "4592       15574.0  United Kingdom        1.25 2010-12-02  15:46:00     None  \n",
       "6213           NaN  United Kingdom        5.02 2010-12-03  11:36:00     None  \n",
       "8591       12748.0  United Kingdom        1.95 2010-12-05  12:53:00     None  \n",
       "8811       16718.0  United Kingdom       12.50 2010-12-05  13:03:00     None  \n",
       "8900       12748.0  United Kingdom        1.95 2010-12-05  13:05:00     None  \n",
       "...            ...             ...         ...        ...       ...      ...  \n",
       "526230     15621.0  United Kingdom        1.95 2011-12-05  13:40:00     None  \n",
       "530415     17914.0  United Kingdom        0.42 2011-12-06  11:58:00     None  \n",
       "532144         NaN  United Kingdom        2.46 2011-12-06  16:26:00     None  \n",
       "532680     17389.0  United Kingdom       11.70 2011-12-06  16:33:00     None  \n",
       "541564     12985.0  United Kingdom       23.40 2011-12-09  10:46:00     None  \n",
       "\n",
       "[270 rows x 11 columns]"
      ]
     },
     "execution_count": 37,
     "metadata": {},
     "output_type": "execute_result"
    }
   ],
   "source": [
    "df_pre[df_pre[\"Category\"].isna()]"
   ]
  },
  {
   "cell_type": "code",
   "execution_count": 38,
   "id": "cd118b81",
   "metadata": {},
   "outputs": [
    {
     "data": {
      "text/plain": [
       "POMPOM CURTAIN                82\n",
       "SOMBRERO                      61\n",
       "SPACE FROG                    56\n",
       "GLOW IN DARK DOLPHINS         33\n",
       "HAWAIIAN GRASS SKIRT          28\n",
       "High Resolution Image          3\n",
       "Dad's Cab Electronic Meter     2\n",
       "AMAZON FEE                     2\n",
       "SAMPLES                        2\n",
       "Adjust bad debt                1\n",
       "Name: Description, dtype: int64"
      ]
     },
     "execution_count": 38,
     "metadata": {},
     "output_type": "execute_result"
    }
   ],
   "source": [
    "df_pre[df_pre[\"Category\"].isna()][\"Description\"].value_counts()"
   ]
  },
  {
   "cell_type": "code",
   "execution_count": 39,
   "id": "6873af5f",
   "metadata": {},
   "outputs": [
    {
     "name": "stdout",
     "output_type": "stream",
     "text": [
      "카테고리 분류 Null 의 매출 비중: 0.31%\n"
     ]
    }
   ],
   "source": [
    "# Category 가 Null 인 항목들의 총 매출\n",
    "na = df_pre[df_pre[\"Category\"].isna()][\"TotalPrice\"].sum()\n",
    "\n",
    "print(f\"카테고리 분류 Null 의 매출 비중: {round((na/Total)*100, 2)}%\")"
   ]
  },
  {
   "cell_type": "markdown",
   "id": "92d1c02e",
   "metadata": {},
   "source": [
    "- 카테고리 분류 Null 의 매출 비중이 0.34% 으로 적음\n",
    "    - 고객유치와 매출 상승을 위한 전략으로 사용하기에 부적합 하다고 판단\n",
    "    - 삭제 결정"
   ]
  },
  {
   "cell_type": "code",
   "execution_count": 40,
   "id": "7bad477f",
   "metadata": {},
   "outputs": [
    {
     "data": {
      "text/plain": [
       "0"
      ]
     },
     "execution_count": 40,
     "metadata": {},
     "output_type": "execute_result"
    }
   ],
   "source": [
    "# Category 가 Null 인 데이터 삭제\n",
    "df_pre = df_pre[~df_pre[\"Category\"].isna()]\n",
    "\n",
    "# 삭제 확인\n",
    "df_pre[\"Category\"].isna().sum()"
   ]
  },
  {
   "cell_type": "markdown",
   "id": "ae590f49",
   "metadata": {},
   "source": [
    "## 외국인 비회원 데이터 분석\n",
    "\n",
    "- 현재 데이터에는 전체 구매 건수의 25%가 비회원 고객이다\n",
    "- 우리 서비스는 본토인 영국 뿐 아니라 여러 유럽권 국가에서도 사용하고 있다.\n",
    "    - 따라서 외국인은 비회원 고객이 많을 것이라는 가설을 세웠고\n",
    "    - 만약 가설이 성립한다면 외국인 데이터는 삭제할 예정이다. <br><br>\n",
    "    \n",
    "- 가설 : 비회원 고객 비율은 **영국 < 외국** 일것이다"
   ]
  },
  {
   "cell_type": "code",
   "execution_count": 41,
   "id": "6e0a8065",
   "metadata": {},
   "outputs": [
    {
     "name": "stdout",
     "output_type": "stream",
     "text": [
      "484842 44964\n",
      "130707 1418\n",
      "영국인 비회원 고객 비율 : 26.96%\n",
      "외국인 비회원 고객 비율 : 3.15%\n"
     ]
    },
    {
     "name": "stderr",
     "output_type": "stream",
     "text": [
      "<ipython-input-41-812f040d925b>:5: UserWarning: Boolean Series key will be reindexed to match DataFrame index.\n",
      "  foreigner = len(df_pre[df[\"Country\"] != 'United Kingdom'])\n"
     ]
    }
   ],
   "source": [
    "# 영국 총 주문건수\n",
    "UK = len(df_pre[df_pre[\"Country\"] == 'United Kingdom'])\n",
    "\n",
    "# 외국 총 주문건수\n",
    "foreigner = len(df_pre[df[\"Country\"] != 'United Kingdom'])\n",
    "\n",
    "print(UK, foreigner)\n",
    "\n",
    "# 영국 비회원 주문건수\n",
    "UK_non = df_pre[df_pre[\"Country\"] == 'United Kingdom'][\"CustomerID\"].isna().sum()\n",
    "\n",
    "# 외국 비회원 주문건수\n",
    "for_non = df_pre[df_pre[\"Country\"] != 'United Kingdom'][\"CustomerID\"].isna().sum()\n",
    "\n",
    "print(UK_non, for_non)\n",
    "\n",
    "print(f'영국인 비회원 고객 비율 : {round((UK_non / UK)*100, 2)}%')\n",
    "print(f'외국인 비회원 고객 비율 : {round((for_non / foreigner)*100, 2)}%')"
   ]
  },
  {
   "cell_type": "markdown",
   "id": "8c887e5f",
   "metadata": {},
   "source": [
    "- tableau 로 시각화\n",
    "<img src = \"./img/국가별 비회원 고객비율.png\"> <br><br>\n",
    "\n",
    "- 외국이 비회원 고객 비율이 높을 줄 알았지만 영국이 더 높으므로 가설 기각\n",
    "- 따라서 외국인 데이터 포함하기로 함"
   ]
  },
  {
   "cell_type": "markdown",
   "id": "7696ebf4",
   "metadata": {},
   "source": [
    "## 고객 재구매 주기 분석\n",
    "\n",
    "- cohort 기간을 결정하기 위한 고객 재구매 주기 분석"
   ]
  },
  {
   "cell_type": "markdown",
   "id": "54558695",
   "metadata": {},
   "source": [
    "### 각 고객의 이전 구매 날짜 파생 변수 생성"
   ]
  },
  {
   "cell_type": "code",
   "execution_count": 42,
   "id": "d7874e38",
   "metadata": {},
   "outputs": [
    {
     "name": "stdout",
     "output_type": "stream",
     "text": [
      "주문 취소건을 제외 주문건 수 : 529806(건)\n"
     ]
    },
    {
     "data": {
      "text/html": [
       "<div>\n",
       "<style scoped>\n",
       "    .dataframe tbody tr th:only-of-type {\n",
       "        vertical-align: middle;\n",
       "    }\n",
       "\n",
       "    .dataframe tbody tr th {\n",
       "        vertical-align: top;\n",
       "    }\n",
       "\n",
       "    .dataframe thead th {\n",
       "        text-align: right;\n",
       "    }\n",
       "</style>\n",
       "<table border=\"1\" class=\"dataframe\">\n",
       "  <thead>\n",
       "    <tr style=\"text-align: right;\">\n",
       "      <th></th>\n",
       "      <th>InvoiceNo</th>\n",
       "      <th>StockCode</th>\n",
       "      <th>Description</th>\n",
       "      <th>Quantity</th>\n",
       "      <th>UnitPrice</th>\n",
       "      <th>CustomerID</th>\n",
       "      <th>Country</th>\n",
       "      <th>TotalPrice</th>\n",
       "      <th>Date</th>\n",
       "      <th>Time</th>\n",
       "      <th>Category</th>\n",
       "      <th>PreviousPurchaseDate</th>\n",
       "      <th>RepurchaseInterval</th>\n",
       "    </tr>\n",
       "  </thead>\n",
       "  <tbody>\n",
       "    <tr>\n",
       "      <th>61619</th>\n",
       "      <td>541431</td>\n",
       "      <td>23166</td>\n",
       "      <td>MEDIUM CERAMIC TOP STORAGE JAR</td>\n",
       "      <td>74215</td>\n",
       "      <td>1.04</td>\n",
       "      <td>12346.0</td>\n",
       "      <td>United Kingdom</td>\n",
       "      <td>77183.6</td>\n",
       "      <td>2011-01-18</td>\n",
       "      <td>10:01:00</td>\n",
       "      <td>ceramic</td>\n",
       "      <td>NaT</td>\n",
       "      <td>NaT</td>\n",
       "    </tr>\n",
       "    <tr>\n",
       "      <th>14938</th>\n",
       "      <td>537626</td>\n",
       "      <td>85116</td>\n",
       "      <td>BLACK CANDELABRA T-LIGHT HOLDER</td>\n",
       "      <td>12</td>\n",
       "      <td>2.10</td>\n",
       "      <td>12347.0</td>\n",
       "      <td>Iceland</td>\n",
       "      <td>25.2</td>\n",
       "      <td>2010-12-07</td>\n",
       "      <td>14:57:00</td>\n",
       "      <td>light</td>\n",
       "      <td>NaT</td>\n",
       "      <td>NaT</td>\n",
       "    </tr>\n",
       "    <tr>\n",
       "      <th>14939</th>\n",
       "      <td>537626</td>\n",
       "      <td>22375</td>\n",
       "      <td>AIRLINE BAG VINTAGE JET SET BROWN</td>\n",
       "      <td>4</td>\n",
       "      <td>4.25</td>\n",
       "      <td>12347.0</td>\n",
       "      <td>Iceland</td>\n",
       "      <td>17.0</td>\n",
       "      <td>2010-12-07</td>\n",
       "      <td>14:57:00</td>\n",
       "      <td>bag</td>\n",
       "      <td>2010-12-07</td>\n",
       "      <td>0 days</td>\n",
       "    </tr>\n",
       "    <tr>\n",
       "      <th>14940</th>\n",
       "      <td>537626</td>\n",
       "      <td>71477</td>\n",
       "      <td>COLOUR GLASS. STAR T-LIGHT HOLDER</td>\n",
       "      <td>12</td>\n",
       "      <td>3.25</td>\n",
       "      <td>12347.0</td>\n",
       "      <td>Iceland</td>\n",
       "      <td>39.0</td>\n",
       "      <td>2010-12-07</td>\n",
       "      <td>14:57:00</td>\n",
       "      <td>light</td>\n",
       "      <td>2010-12-07</td>\n",
       "      <td>0 days</td>\n",
       "    </tr>\n",
       "    <tr>\n",
       "      <th>14941</th>\n",
       "      <td>537626</td>\n",
       "      <td>22492</td>\n",
       "      <td>MINI PAINT SET VINTAGE</td>\n",
       "      <td>36</td>\n",
       "      <td>0.65</td>\n",
       "      <td>12347.0</td>\n",
       "      <td>Iceland</td>\n",
       "      <td>23.4</td>\n",
       "      <td>2010-12-07</td>\n",
       "      <td>14:57:00</td>\n",
       "      <td>set</td>\n",
       "      <td>2010-12-07</td>\n",
       "      <td>0 days</td>\n",
       "    </tr>\n",
       "  </tbody>\n",
       "</table>\n",
       "</div>"
      ],
      "text/plain": [
       "      InvoiceNo StockCode                        Description  Quantity  \\\n",
       "61619    541431     23166     MEDIUM CERAMIC TOP STORAGE JAR     74215   \n",
       "14938    537626     85116    BLACK CANDELABRA T-LIGHT HOLDER        12   \n",
       "14939    537626     22375  AIRLINE BAG VINTAGE JET SET BROWN         4   \n",
       "14940    537626     71477  COLOUR GLASS. STAR T-LIGHT HOLDER        12   \n",
       "14941    537626     22492            MINI PAINT SET VINTAGE         36   \n",
       "\n",
       "       UnitPrice  CustomerID         Country  TotalPrice       Date      Time  \\\n",
       "61619       1.04     12346.0  United Kingdom     77183.6 2011-01-18  10:01:00   \n",
       "14938       2.10     12347.0         Iceland        25.2 2010-12-07  14:57:00   \n",
       "14939       4.25     12347.0         Iceland        17.0 2010-12-07  14:57:00   \n",
       "14940       3.25     12347.0         Iceland        39.0 2010-12-07  14:57:00   \n",
       "14941       0.65     12347.0         Iceland        23.4 2010-12-07  14:57:00   \n",
       "\n",
       "      Category PreviousPurchaseDate RepurchaseInterval  \n",
       "61619  ceramic                  NaT                NaT  \n",
       "14938    light                  NaT                NaT  \n",
       "14939      bag           2010-12-07             0 days  \n",
       "14940    light           2010-12-07             0 days  \n",
       "14941      set           2010-12-07             0 days  "
      ]
     },
     "execution_count": 42,
     "metadata": {},
     "output_type": "execute_result"
    }
   ],
   "source": [
    "# 'Date'를 datetime 형식으로 변환\n",
    "df_pre['Date'] = pd.to_datetime(df_pre['Date'])\n",
    "\n",
    "# 고객별로 구매 날짜를 정렬\n",
    "df_filtered = df_pre.sort_values(by=['CustomerID', 'Date'])\n",
    "\n",
    "# 각 고객의 이전 구매 날짜 계산\n",
    "df_filtered['PreviousPurchaseDate'] = df_filtered.groupby('CustomerID')['Date'].shift(1)\n",
    "\n",
    "# NaN 값을 제외하고 재구매 주기 계산\n",
    "df_filtered['RepurchaseInterval'] = df_filtered['Date'] - df_filtered['PreviousPurchaseDate']\n",
    "\n",
    "# 결과 출력\n",
    "print(f\"주문 취소건을 제외 주문건 수 : {len(df_filtered)}(건)\")\n",
    "df_filtered.head()"
   ]
  },
  {
   "cell_type": "code",
   "execution_count": 43,
   "id": "3eec8c40",
   "metadata": {},
   "outputs": [
    {
     "name": "stdout",
     "output_type": "stream",
     "text": [
      "고객별 재구매 주기 최댓값: 366일\n",
      "고객별 재구매 주기 최솟값: 0일\n",
      "고객별 재구매 주기 평균값: 1.4416058208590954일\n",
      "고객별 재구매 주기 중앙값: 0.0일\n"
     ]
    }
   ],
   "source": [
    "# 고객별 평균 재구매 주기 계산 (NaN 값은 무시됨)\n",
    "repurchase_max = df_filtered['RepurchaseInterval'].dropna().dt.days.max()\n",
    "repurchase_min = df_filtered['RepurchaseInterval'].dropna().dt.days.min()\n",
    "repurchase_mean = df_filtered['RepurchaseInterval'].dropna().dt.days.mean()\n",
    "repurchase_median = df_filtered['RepurchaseInterval'].dropna().dt.days.median()\n",
    "\n",
    "# 결과 출력\n",
    "print(f\"고객별 재구매 주기 최댓값: {repurchase_max}일\")\n",
    "print(f\"고객별 재구매 주기 최솟값: {repurchase_min}일\")\n",
    "print(f\"고객별 재구매 주기 평균값: {repurchase_mean}일\")\n",
    "print(f\"고객별 재구매 주기 중앙값: {repurchase_median}일\")"
   ]
  },
  {
   "cell_type": "markdown",
   "id": "91f122f0",
   "metadata": {},
   "source": [
    "- 한번만 구매한 사람도 있어서 평균값과 중앙값이 너무 낮음"
   ]
  },
  {
   "cell_type": "code",
   "execution_count": 44,
   "id": "42ea218d",
   "metadata": {},
   "outputs": [],
   "source": [
    "# 첫구매 제외하기\n",
    "df_filtered2 = df_filtered.dropna(subset=['RepurchaseInterval'])\n",
    "\n",
    "# 같은날 구매 제외하기\n",
    "df_filtered2 = df_filtered2[~(df_filtered2['RepurchaseInterval'] == '0days')]\n",
    "\n",
    "# 하루단위를 정수로 변환(1days -> 1.0)\n",
    "interval_data = (df_filtered2['RepurchaseInterval'] / pd.Timedelta(days=1)).astype(int)"
   ]
  },
  {
   "cell_type": "markdown",
   "id": "bf7f907e",
   "metadata": {},
   "source": [
    "### 고객 구매주기 시각화"
   ]
  },
  {
   "cell_type": "code",
   "execution_count": 45,
   "id": "7bc62a56",
   "metadata": {},
   "outputs": [
    {
     "data": {
      "image/png": "[encoded data removed]",
      "text/plain": [
       "<Figure size 1080x432 with 1 Axes>"
      ]
     },
     "metadata": {
      "needs_background": "light"
     },
     "output_type": "display_data"
    }
   ],
   "source": [
    "# 고객 재구매주기 그래프 \n",
    "plt.figure(figsize=(15, 6)) \n",
    "plt.hist(interval_data, bins=100, color='skyblue', edgecolor='black')\n",
    "\n",
    "plt.title('Repurchase Cycle by Customer')\n",
    "plt.xlabel('repurchase cycle(days)')\n",
    "plt.ylabel('count')\n",
    "plt.show()"
   ]
  },
  {
   "cell_type": "markdown",
   "id": "19ff22e7",
   "metadata": {},
   "source": [
    "### 고객 구매주기 이상치 확인"
   ]
  },
  {
   "cell_type": "code",
   "execution_count": 46,
   "id": "a0b06942",
   "metadata": {},
   "outputs": [
    {
     "data": {
      "image/png": "[encoded data removed]",
      "text/plain": [
       "<Figure size 1080x576 with 2 Axes>"
      ]
     },
     "metadata": {
      "needs_background": "light"
     },
     "output_type": "display_data"
    }
   ],
   "source": [
    "plt.figure(figsize=(15, 8))\n",
    "\n",
    "# 박스플롯\n",
    "plt.subplot(1, 2, 1)  \n",
    "sns.boxplot(y=interval_data, color='lightgreen')\n",
    "plt.title('Boxplot of Repurchase Cycle')\n",
    "plt.ylabel('Repurchase Cycle (days)')\n",
    "\n",
    "# 항아리 그래프\n",
    "plt.subplot(1, 2, 2)  \n",
    "sns.violinplot(y=interval_data, color='lightblue')\n",
    "plt.title('Violin Plot of Repurchase Cycle')\n",
    "plt.ylabel('') \n",
    "\n",
    "plt.show()"
   ]
  },
  {
   "cell_type": "markdown",
   "id": "ef7e016b",
   "metadata": {},
   "source": [
    "### 고객 구매주기 평균/중앙 값"
   ]
  },
  {
   "cell_type": "code",
   "execution_count": 47,
   "id": "cca6d24e",
   "metadata": {},
   "outputs": [
    {
     "name": "stdout",
     "output_type": "stream",
     "text": [
      "재구매 주기 평균값 : 46일\n",
      "재구매 주기 중앙값 : 28일\n"
     ]
    }
   ],
   "source": [
    "mean = interval_data.mean()\n",
    "median = interval_data.median()\n",
    "\n",
    "print(f\"재구매 주기 평균값 : {round(mean)}일\")\n",
    "print(f\"재구매 주기 중앙값 : {round(median)}일\")"
   ]
  },
  {
   "cell_type": "markdown",
   "id": "56d3fc5c",
   "metadata": {},
   "source": [
    "- Q1~Q3 범위에 들어오는 값들과 이상치의 수치가 너무 많이 차이 남\n",
    "- 평균값은 이상치에 영향을 많이 받으므로 재구매 주기 기준은 중앙값을 사용하기로 함\n",
    "    - cohort 의 기간은 중앙값과 유사한 **1달** 단위로 결정함 "
   ]
  },
  {
   "cell_type": "code",
   "execution_count": 48,
   "id": "4f72fc24",
   "metadata": {},
   "outputs": [],
   "source": [
    "# df_pre.to_csv('./data/Online_Retail(전처리 후).csv', index=False)"
   ]
  },
  {
   "cell_type": "code",
   "execution_count": 49,
   "id": "087258fa",
   "metadata": {},
   "outputs": [],
   "source": [
    "# conn = sqlite3.connect('Online_Retail.db')\n",
    "\n",
    "# df_pre.to_sql('Online_Retail', conn, if_exists='replace', index=False)\n",
    "\n",
    "# conn.close()"
   ]
  },
  {
   "cell_type": "code",
   "execution_count": null,
   "id": "2b64b7bc",
   "metadata": {},
   "outputs": [],
   "source": []
  }
 ],
 "metadata": {
  "kernelspec": {
   "display_name": "Python 3",
   "language": "python",
   "name": "python3"
  },
  "language_info": {
   "codemirror_mode": {
    "name": "ipython",
    "version": 3
   },
   "file_extension": ".py",
   "mimetype": "text/x-python",
   "name": "python",
   "nbconvert_exporter": "python",
   "pygments_lexer": "ipython3",
   "version": "3.8.8"
  }
 },
 "nbformat": 4,
 "nbformat_minor": 5
}
